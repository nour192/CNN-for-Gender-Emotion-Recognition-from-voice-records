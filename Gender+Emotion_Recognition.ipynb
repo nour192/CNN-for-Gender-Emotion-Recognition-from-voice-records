{
  "nbformat": 4,
  "nbformat_minor": 0,
  "metadata": {
    "colab": {
      "name": "Gender+Emotion Recognition.ipynb",
      "provenance": [],
      "collapsed_sections": [
        "hPVQSyoUEqHQ",
        "nDYtXAHLchfR",
        "uT6HpH_PcloL",
        "OTnhMSVCT735",
        "cpm24Ih-UcTU",
        "XouYutpPbLPX",
        "dAxD1JO6bd2m",
        "NQQHSEK6b7OC"
      ]
    },
    "kernelspec": {
      "name": "python3",
      "display_name": "Python 3"
    },
    "language_info": {
      "name": "python"
    },
    "accelerator": "GPU"
  },
  "cells": [
    {
      "cell_type": "markdown",
      "metadata": {
        "id": "ivff252YcZxx"
      },
      "source": [
        "**Importing the required libraries**"
      ]
    },
    {
      "cell_type": "code",
      "metadata": {
        "id": "FGEDG4aw3eeP"
      },
      "source": [
        "import librosa\n",
        "import librosa.display\n",
        "import numpy as np\n",
        "import matplotlib.pyplot as plt\n",
        "import tensorflow as tf\n",
        "from matplotlib.pyplot import specgram\n",
        "import tensorflow.keras\n",
        "from tensorflow.keras.preprocessing import sequence\n",
        "from tensorflow.keras.models import Sequential\n",
        "from tensorflow.keras.layers import Dense, Embedding\n",
        "from tensorflow.keras.layers import LSTM\n",
        "from tensorflow.keras.preprocessing.text import Tokenizer\n",
        "from tensorflow.keras.preprocessing.sequence import pad_sequences\n",
        "import tensorflow.keras.utils\n",
        "from tensorflow.keras.utils import to_categorical \n",
        "from tensorflow.keras.layers import Input, Flatten, Dropout, Activation\n",
        "from tensorflow.keras.layers import Conv1D, MaxPooling1D, AveragePooling1D\n",
        "from tensorflow.keras.models import Model\n",
        "from tensorflow.keras.callbacks import ModelCheckpoint\n",
        "from sklearn.metrics import confusion_matrix\n",
        "from tensorflow.keras import regularizers\n",
        "import os"
      ],
      "execution_count": null,
      "outputs": []
    },
    {
      "cell_type": "markdown",
      "metadata": {
        "id": "hPVQSyoUEqHQ"
      },
      "source": [
        "## **Adding Tess Dataset**\n",
        "This cell is to convert the TESS naming convention to Ravdess naming Convention\n",
        "\n",
        "\n",
        "**it is commented to not repeat the procedure and disrupt the data.**"
      ]
    },
    {
      "cell_type": "code",
      "metadata": {
        "id": "DPgNfsIf9N2o",
        "colab": {
          "base_uri": "https://localhost:8080/",
          "height": 122
        },
        "outputId": "9d674b7d-cdc0-46d2-e25b-3ce7b8e030ab"
      },
      "source": [
        "\"\"\"\n",
        "import os\n",
        "import shutil\n",
        "import random\n",
        "\n",
        "counter = 0\n",
        "\n",
        "label_conversion = {'01': 'neutral',\n",
        "                    '03': 'happy',\n",
        "                    '04': 'sad',\n",
        "                    '05': 'angry',\n",
        "                    '06': 'fear',\n",
        "                    '07': 'disgust',\n",
        "                    '08': 'ps'}\n",
        "\n",
        "path = \"/content/drive/MyDrive/speech emotion recognition/TESS Toronto emotional speech set data\"\n",
        "TRAINING_FILES_PATH = \"/content/drive/MyDrive/speech emotion recognition/Tess Converted Names/\"\n",
        "\n",
        "for subdir, dirs, files in os.walk(path):\n",
        "  for filename in files:\n",
        "    if filename.startswith('OAF'):\n",
        "      destination_path = TRAINING_FILES_PATH\n",
        "      old_file_path = os.path.join(os.path.abspath(subdir), filename)\n",
        "\n",
        "      # Separate base from extension\n",
        "      base, extension = os.path.splitext(filename)\n",
        "\n",
        "      for key, value in label_conversion.items():\n",
        "        if base.endswith(value):\n",
        "          random_list = random.sample(range(10, 99), 7)\n",
        "          file_name = '-'.join([str(i) for i in random_list])\n",
        "          file_name_with_correct_emotion = file_name[:6] + key + file_name[8:] + extension\n",
        "          new_file_path = destination_path + file_name_with_correct_emotion\n",
        "          shutil.copy(old_file_path, new_file_path)\n",
        "\n",
        "    else:\n",
        "      destination_path = TRAINING_FILES_PATH\n",
        "      old_file_path = os.path.join(os.path.abspath(subdir), filename)\n",
        "\n",
        "      # Separate base from extension\n",
        "      base, extension = os.path.splitext(filename)\n",
        "\n",
        "      for key, value in label_conversion.items():\n",
        "        if base.endswith(value):\n",
        "          random_list = random.sample(range(10, 99), 7)\n",
        "          file_name = '-'.join([str(i) for i in random_list])\n",
        "          file_name_with_correct_emotion = (file_name[:6] + key + file_name[8:] + extension).strip()\n",
        "          new_file_path = destination_path + file_name_with_correct_emotion\n",
        "          shutil.copy(old_file_path, new_file_path)\n",
        "\n",
        "\"\"\""
      ],
      "execution_count": null,
      "outputs": [
        {
          "output_type": "execute_result",
          "data": {
            "application/vnd.google.colaboratory.intrinsic+json": {
              "type": "string"
            },
            "text/plain": [
              "'\\nimport os\\nimport shutil\\nimport random\\n\\ncounter = 0\\n\\nlabel_conversion = {\\'01\\': \\'neutral\\',\\n                    \\'03\\': \\'happy\\',\\n                    \\'04\\': \\'sad\\',\\n                    \\'05\\': \\'angry\\',\\n                    \\'06\\': \\'fear\\',\\n                    \\'07\\': \\'disgust\\',\\n                    \\'08\\': \\'ps\\'}\\n\\npath = \"/content/drive/MyDrive/speech emotion recognition/TESS Toronto emotional speech set data\"\\nTRAINING_FILES_PATH = \"/content/drive/MyDrive/speech emotion recognition/Tess Converted Names/\"\\n\\nfor subdir, dirs, files in os.walk(path):\\n  for filename in files:\\n    if filename.startswith(\\'OAF\\'):\\n      destination_path = TRAINING_FILES_PATH\\n      old_file_path = os.path.join(os.path.abspath(subdir), filename)\\n\\n      # Separate base from extension\\n      base, extension = os.path.splitext(filename)\\n\\n      for key, value in label_conversion.items():\\n        if base.endswith(value):\\n          random_list = random.sample(range(10, 99), 7)\\n          file_name = \\'-\\'.join([str(i) for i in random_list])\\n          file_name_with_correct_emotion = file_name[:6] + key + file_name[8:] + extension\\n          new_file_path = destination_path + file_name_with_correct_emotion\\n          shutil.copy(old_file_path, new_file_path)\\n\\n    else:\\n      destination_path = TRAINING_FILES_PATH\\n      old_file_path = os.path.join(os.path.abspath(subdir), filename)\\n\\n      # Separate base from extension\\n      base, extension = os.path.splitext(filename)\\n\\n      for key, value in label_conversion.items():\\n        if base.endswith(value):\\n          random_list = random.sample(range(10, 99), 7)\\n          file_name = \\'-\\'.join([str(i) for i in random_list])\\n          file_name_with_correct_emotion = (file_name[:6] + key + file_name[8:] + extension).strip()\\n          new_file_path = destination_path + file_name_with_correct_emotion\\n          shutil.copy(old_file_path, new_file_path)\\n\\n'"
            ]
          },
          "metadata": {},
          "execution_count": 203
        }
      ]
    },
    {
      "cell_type": "code",
      "metadata": {
        "id": "TnUzDPFR8l2I"
      },
      "source": [
        "mylist=os.listdir('/content/drive/MyDrive/speech emotion recognition/Dataset/')"
      ],
      "execution_count": null,
      "outputs": []
    },
    {
      "cell_type": "code",
      "metadata": {
        "id": "K3b6xeqY9HHN",
        "colab": {
          "base_uri": "https://localhost:8080/"
        },
        "outputId": "802d7bb3-b2ce-45ef-bf06-ed850425fa3e"
      },
      "source": [
        "print(mylist[1])"
      ],
      "execution_count": null,
      "outputs": [
        {
          "output_type": "stream",
          "name": "stdout",
          "text": [
            "50-60-06-23-14-47-19.wav\n"
          ]
        }
      ]
    },
    {
      "cell_type": "code",
      "metadata": {
        "id": "kccC8K4NaU_o",
        "colab": {
          "base_uri": "https://localhost:8080/"
        },
        "outputId": "bc7c1da0-974c-4948-c543-be9e0a24cec9"
      },
      "source": [
        "len(mylist)"
      ],
      "execution_count": null,
      "outputs": [
        {
          "output_type": "execute_result",
          "data": {
            "text/plain": [
              "3520"
            ]
          },
          "metadata": {},
          "execution_count": 206
        }
      ]
    },
    {
      "cell_type": "markdown",
      "metadata": {
        "id": "nDYtXAHLchfR"
      },
      "source": [
        "##**Plotting the audio file's waveform and its spectrogram**"
      ]
    },
    {
      "cell_type": "code",
      "metadata": {
        "id": "tslK6GBG_pLC"
      },
      "source": [
        "data, sampling_rate = librosa.load('/content/drive/MyDrive/speech emotion recognition/Dataset/03-01-01-01-01-01-09.wav')"
      ],
      "execution_count": null,
      "outputs": []
    },
    {
      "cell_type": "code",
      "metadata": {
        "id": "lXUFO4OH_wnU",
        "colab": {
          "base_uri": "https://localhost:8080/",
          "height": 369
        },
        "outputId": "627cfac4-2ca3-487b-f252-966d2273b524"
      },
      "source": [
        "% pylab inline\n",
        "import os\n",
        "import pandas as pd\n",
        "import librosa\n",
        "\n",
        "plt.figure(figsize=(15, 5))\n",
        "librosa.display.waveplot(data, sr=sampling_rate)"
      ],
      "execution_count": null,
      "outputs": [
        {
          "output_type": "stream",
          "name": "stdout",
          "text": [
            "Populating the interactive namespace from numpy and matplotlib\n"
          ]
        },
        {
          "output_type": "execute_result",
          "data": {
            "text/plain": [
              "<matplotlib.collections.PolyCollection at 0x7f5ac0d359d0>"
            ]
          },
          "metadata": {},
          "execution_count": 208
        },
        {
          "output_type": "display_data",
          "data": {
            "image/png": "[encoded data removed]",
            "text/plain": [
              "<Figure size 1080x360 with 1 Axes>"
            ]
          },
          "metadata": {
            "needs_background": "light"
          }
        }
      ]
    },
    {
      "cell_type": "code",
      "metadata": {
        "id": "goLxWuM8_00D",
        "colab": {
          "base_uri": "https://localhost:8080/",
          "height": 300
        },
        "outputId": "e9a1d63b-9cc9-4d37-907b-ab550a2459c9"
      },
      "source": [
        "import matplotlib.pyplot as plt\n",
        "import scipy.io.wavfile\n",
        "import numpy as np\n",
        "import sys\n",
        "\n",
        "sr,x = scipy.io.wavfile.read('/content/drive/MyDrive/speech emotion recognition/Dataset/03-01-01-01-01-01-09.wav')\n",
        "\n",
        "## Parameters: 10ms step, 30ms window\n",
        "nstep = int(sr * 0.01)\n",
        "nwin  = int(sr * 0.03)\n",
        "nfft = nwin\n",
        "\n",
        "window = np.hamming(nwin)\n",
        "\n",
        "## will take windows x[n1:n2].  generate\n",
        "## and loop over n2 such that all frames\n",
        "## fit within the waveform\n",
        "nn = range(nwin, len(x), nstep)\n",
        "\n",
        "X = np.zeros( (len(nn), nfft//2) )\n",
        "\n",
        "for i,n in enumerate(nn):\n",
        "    xseg = x[n-nwin:n]\n",
        "    z = np.fft.fft(window * xseg, nfft)\n",
        "    X[i,:] = np.log(np.abs(z[:nfft//2]))\n",
        "\n",
        "plt.imshow(X.T, interpolation='nearest',\n",
        "    origin='lower',\n",
        "    aspect='auto')\n",
        "\n",
        "plt.show()"
      ],
      "execution_count": null,
      "outputs": [
        {
          "output_type": "stream",
          "name": "stderr",
          "text": [
            "/usr/local/lib/python3.7/dist-packages/ipykernel_launcher.py:6: WavFileWarning: Chunk (non-data) not understood, skipping it.\n",
            "  \n"
          ]
        },
        {
          "output_type": "display_data",
          "data": {
            "image/png": "[encoded data removed]",
            "text/plain": [
              "<Figure size 432x288 with 1 Axes>"
            ]
          },
          "metadata": {
            "needs_background": "light"
          }
        }
      ]
    },
    {
      "cell_type": "markdown",
      "metadata": {
        "id": "uT6HpH_PcloL"
      },
      "source": [
        "## **Setting the labels & Data Preprocessing**"
      ]
    },
    {
      "cell_type": "code",
      "metadata": {
        "id": "e8gGGcaySqqy",
        "colab": {
          "base_uri": "https://localhost:8080/",
          "height": 122
        },
        "outputId": "8f604078-cf96-4369-aa56-a66efadf8bb3"
      },
      "source": [
        "feeling_list=[]\n",
        "for item in mylist:\n",
        "  \n",
        "    if item[:1]=='a':\n",
        "        feeling_list.append('male_angry')\n",
        "    elif item[:1]=='f':\n",
        "        feeling_list.append('male_fearful')\n",
        "    elif item[:1]=='h':\n",
        "        feeling_list.append('male_happy')\n",
        "    elif item[:2]=='sa':\n",
        "        feeling_list.append('male_sad')\n",
        "        \n",
        "    elif item[:2]>='10':\n",
        "      if item[6:-16]=='03':\n",
        "          feeling_list.append('female_happy')          \n",
        "      elif item[6:-16]=='04':\n",
        "          feeling_list.append('female_sad')\n",
        "      elif item[6:-16]=='05':\n",
        "          feeling_list.append('female_angry')\n",
        "      elif item[6:-16]=='06':\n",
        "          feeling_list.append('female_fearful')\n",
        "    else:\n",
        "      if item[6:-16]=='02' and int(item[18:-4])%2==0:\n",
        "          feeling_list.append('female_calm')\n",
        "      elif item[6:-16]=='02' and int(item[18:-4])%2==1:\n",
        "          feeling_list.append('male_calm')\n",
        "      elif item[6:-16]=='03' and int(item[18:-4])%2==0:\n",
        "          feeling_list.append('female_happy')\n",
        "      elif item[6:-16]=='03' and int(item[18:-4])%2==1:\n",
        "          feeling_list.append('male_happy')\n",
        "      elif item[6:-16]=='04' and int(item[18:-4])%2==0:\n",
        "          feeling_list.append('female_sad')\n",
        "      elif item[6:-16]=='04' and int(item[18:-4])%2==1:\n",
        "          feeling_list.append('male_sad')\n",
        "      elif item[6:-16]=='05' and int(item[18:-4])%2==0:\n",
        "          feeling_list.append('female_angry')\n",
        "      elif item[6:-16]=='05' and int(item[18:-4])%2==1:\n",
        "          feeling_list.append('male_angry')\n",
        "      elif item[6:-16]=='06' and int(item[18:-4])%2==0:\n",
        "          feeling_list.append('female_fearful')\n",
        "      elif item[6:-16]=='06' and int(item[18:-4])%2==1:\n",
        "          feeling_list.append('male_fearful')\n",
        "\n",
        "\"\"\"\n",
        "dir_list = os.listdir(\"/content/drive/MyDrive/speech emotion recognition/TESS Toronto emotional speech set data\")\n",
        "for i in dir_list:\n",
        "    fname = os.listdir(\"/content/drive/MyDrive/speech emotion recognition/TESS Toronto emotional speech set data/\" + i)\n",
        "    for f in fname:\n",
        "        if i == 'OAF_angry' or i == 'YAF_angry':\n",
        "            feeling_list.append('female_angry')\n",
        "        elif i == 'OAF_Fear' or i == 'YAF_fear':\n",
        "            feeling_list.append('female_fearful')\n",
        "        elif i == 'OAF_happy' or i == 'YAF_happy':\n",
        "            feeling_list.append('female_happy')        \n",
        "        elif i == 'OAF_Sad' or i == 'YAF_sad':\n",
        "            feeling_list.append('female_sad')\n",
        "        #elif i == 'OAF_neutral' or i == 'YAF_neutral':\n",
        "            #feeling_list.append('female_neutral')                                \n",
        "        #elif i == 'OAF_Pleasant_surprise' or i == 'YAF_pleasant_surprised':\n",
        "            #feeling_list.append('female_surprise')    \n",
        "        #elif i == 'OAF_disgust' or i == 'YAF_disgust':\n",
        "            #feeling_list.append('female_disgust')   \n",
        "\"\"\""
      ],
      "execution_count": null,
      "outputs": [
        {
          "output_type": "execute_result",
          "data": {
            "application/vnd.google.colaboratory.intrinsic+json": {
              "type": "string"
            },
            "text/plain": [
              "'\\ndir_list = os.listdir(\"/content/drive/MyDrive/speech emotion recognition/TESS Toronto emotional speech set data\")\\nfor i in dir_list:\\n    fname = os.listdir(\"/content/drive/MyDrive/speech emotion recognition/TESS Toronto emotional speech set data/\" + i)\\n    for f in fname:\\n        if i == \\'OAF_angry\\' or i == \\'YAF_angry\\':\\n            feeling_list.append(\\'female_angry\\')\\n        elif i == \\'OAF_Fear\\' or i == \\'YAF_fear\\':\\n            feeling_list.append(\\'female_fearful\\')\\n        elif i == \\'OAF_happy\\' or i == \\'YAF_happy\\':\\n            feeling_list.append(\\'female_happy\\')        \\n        elif i == \\'OAF_Sad\\' or i == \\'YAF_sad\\':\\n            feeling_list.append(\\'female_sad\\')\\n        #elif i == \\'OAF_neutral\\' or i == \\'YAF_neutral\\':\\n            #feeling_list.append(\\'female_neutral\\')                                \\n        #elif i == \\'OAF_Pleasant_surprise\\' or i == \\'YAF_pleasant_surprised\\':\\n            #feeling_list.append(\\'female_surprise\\')    \\n        #elif i == \\'OAF_disgust\\' or i == \\'YAF_disgust\\':\\n            #feeling_list.append(\\'female_disgust\\')   \\n'"
            ]
          },
          "metadata": {},
          "execution_count": 210
        }
      ]
    },
    {
      "cell_type": "code",
      "metadata": {
        "id": "RG26mU6vStpE",
        "colab": {
          "base_uri": "https://localhost:8080/"
        },
        "outputId": "f42d753c-767e-4541-e6b2-426ad85b2ff7"
      },
      "source": [
        "labels = pd.DataFrame(feeling_list, columns={'labels'})\n",
        "print(labels.labels.unique())"
      ],
      "execution_count": null,
      "outputs": [
        {
          "output_type": "stream",
          "name": "stdout",
          "text": [
            "['female_fearful' 'female_angry' 'female_sad' 'female_happy' 'male_calm'\n",
            " 'male_happy' 'male_sad' 'male_angry' 'male_fearful' 'female_calm']\n"
          ]
        }
      ]
    },
    {
      "cell_type": "markdown",
      "metadata": {
        "id": "8qYCo__JcrpA"
      },
      "source": [
        "**Getting the features of audio files using librosa**"
      ]
    },
    {
      "cell_type": "code",
      "metadata": {
        "id": "xYcryMWmMTW0"
      },
      "source": [
        "df = pd.DataFrame(columns=['feature'])\n",
        "bookmark=0\n",
        "for index,y in enumerate(mylist):\n",
        "    if mylist[index][6:-16]!='01' and mylist[index][6:-16]!='07' and mylist[index][6:-16]!='08' and mylist[index][:2]!='su' and mylist[index][:1]!='n' and mylist[index][:1]!='d':\n",
        "        X, sample_rate = librosa.load('/content/drive/MyDrive/speech emotion recognition/Dataset/'+y, res_type='kaiser_fast',duration=2.5,sr=22050*2,offset=0.5)\n",
        "        sample_rate = np.array(sample_rate)\n",
        "        mfccs = np.mean(librosa.feature.mfcc(y=X, \n",
        "                                            sr=sample_rate, \n",
        "                                            n_mfcc=13),\n",
        "                        axis=0)\n",
        "        feature = mfccs\n",
        "        df.loc[bookmark] = [feature]\n",
        "        bookmark=bookmark+1    "
      ],
      "execution_count": null,
      "outputs": []
    },
    {
      "cell_type": "code",
      "metadata": {
        "id": "wulxEgBbLzBO"
      },
      "source": [
        "import keras.utils"
      ],
      "execution_count": null,
      "outputs": []
    },
    {
      "cell_type": "code",
      "metadata": {
        "colab": {
          "base_uri": "https://localhost:8080/",
          "height": 206
        },
        "id": "Au6jyqhpTmBl",
        "outputId": "3bfc167a-e685-435a-e321-0bc44f084afb"
      },
      "source": [
        "df[:5]"
      ],
      "execution_count": null,
      "outputs": [
        {
          "output_type": "execute_result",
          "data": {
            "text/html": [
              "<div>\n",
              "<style scoped>\n",
              "    .dataframe tbody tr th:only-of-type {\n",
              "        vertical-align: middle;\n",
              "    }\n",
              "\n",
              "    .dataframe tbody tr th {\n",
              "        vertical-align: top;\n",
              "    }\n",
              "\n",
              "    .dataframe thead th {\n",
              "        text-align: right;\n",
              "    }\n",
              "</style>\n",
              "<table border=\"1\" class=\"dataframe\">\n",
              "  <thead>\n",
              "    <tr style=\"text-align: right;\">\n",
              "      <th></th>\n",
              "      <th>feature</th>\n",
              "    </tr>\n",
              "  </thead>\n",
              "  <tbody>\n",
              "    <tr>\n",
              "      <th>0</th>\n",
              "      <td>[-20.730122, -19.28741, -18.097862, -19.381758...</td>\n",
              "    </tr>\n",
              "    <tr>\n",
              "      <th>1</th>\n",
              "      <td>[-6.3403225, -10.349282, -20.596178, -21.17180...</td>\n",
              "    </tr>\n",
              "    <tr>\n",
              "      <th>2</th>\n",
              "      <td>[-6.1908727, -10.767307, -25.903532, -26.30032...</td>\n",
              "    </tr>\n",
              "    <tr>\n",
              "      <th>3</th>\n",
              "      <td>[-11.453272, -15.099227, -23.107552, -21.03278...</td>\n",
              "    </tr>\n",
              "    <tr>\n",
              "      <th>4</th>\n",
              "      <td>[-15.549138, -17.520674, -22.816315, -24.77610...</td>\n",
              "    </tr>\n",
              "  </tbody>\n",
              "</table>\n",
              "</div>"
            ],
            "text/plain": [
              "                                             feature\n",
              "0  [-20.730122, -19.28741, -18.097862, -19.381758...\n",
              "1  [-6.3403225, -10.349282, -20.596178, -21.17180...\n",
              "2  [-6.1908727, -10.767307, -25.903532, -26.30032...\n",
              "3  [-11.453272, -15.099227, -23.107552, -21.03278...\n",
              "4  [-15.549138, -17.520674, -22.816315, -24.77610..."
            ]
          },
          "metadata": {},
          "execution_count": 214
        }
      ]
    },
    {
      "cell_type": "code",
      "metadata": {
        "id": "PyUiD3pBTo6-"
      },
      "source": [
        "df3 = pd.DataFrame(df['feature'].values.tolist())"
      ],
      "execution_count": null,
      "outputs": []
    },
    {
      "cell_type": "code",
      "metadata": {
        "id": "UlGVG7rCTq5m",
        "colab": {
          "base_uri": "https://localhost:8080/"
        },
        "outputId": "bb4d59b5-1e28-4517-9a25-741458621b7d"
      },
      "source": [
        "newdf = pd.concat([df3,labels], axis=1)\n",
        "print(newdf.shape)"
      ],
      "execution_count": null,
      "outputs": [
        {
          "output_type": "stream",
          "name": "stdout",
          "text": [
            "(2800, 217)\n"
          ]
        }
      ]
    },
    {
      "cell_type": "code",
      "metadata": {
        "colab": {
          "base_uri": "https://localhost:8080/",
          "height": 412
        },
        "id": "LZRzCxkJTz0s",
        "outputId": "aae81dbf-3ab2-4c33-a851-7e1904a690c3"
      },
      "source": [
        "from sklearn.utils import shuffle\n",
        "rnewdf = shuffle(newdf)\n",
        "rnewdf[:10]"
      ],
      "execution_count": null,
      "outputs": [
        {
          "output_type": "execute_result",
          "data": {
            "text/html": [
              "<div>\n",
              "<style scoped>\n",
              "    .dataframe tbody tr th:only-of-type {\n",
              "        vertical-align: middle;\n",
              "    }\n",
              "\n",
              "    .dataframe tbody tr th {\n",
              "        vertical-align: top;\n",
              "    }\n",
              "\n",
              "    .dataframe thead th {\n",
              "        text-align: right;\n",
              "    }\n",
              "</style>\n",
              "<table border=\"1\" class=\"dataframe\">\n",
              "  <thead>\n",
              "    <tr style=\"text-align: right;\">\n",
              "      <th></th>\n",
              "      <th>0</th>\n",
              "      <th>1</th>\n",
              "      <th>2</th>\n",
              "      <th>3</th>\n",
              "      <th>4</th>\n",
              "      <th>5</th>\n",
              "      <th>6</th>\n",
              "      <th>7</th>\n",
              "      <th>8</th>\n",
              "      <th>9</th>\n",
              "      <th>10</th>\n",
              "      <th>11</th>\n",
              "      <th>12</th>\n",
              "      <th>13</th>\n",
              "      <th>14</th>\n",
              "      <th>15</th>\n",
              "      <th>16</th>\n",
              "      <th>17</th>\n",
              "      <th>18</th>\n",
              "      <th>19</th>\n",
              "      <th>20</th>\n",
              "      <th>21</th>\n",
              "      <th>22</th>\n",
              "      <th>23</th>\n",
              "      <th>24</th>\n",
              "      <th>25</th>\n",
              "      <th>26</th>\n",
              "      <th>27</th>\n",
              "      <th>28</th>\n",
              "      <th>29</th>\n",
              "      <th>30</th>\n",
              "      <th>31</th>\n",
              "      <th>32</th>\n",
              "      <th>33</th>\n",
              "      <th>34</th>\n",
              "      <th>35</th>\n",
              "      <th>36</th>\n",
              "      <th>37</th>\n",
              "      <th>38</th>\n",
              "      <th>39</th>\n",
              "      <th>...</th>\n",
              "      <th>177</th>\n",
              "      <th>178</th>\n",
              "      <th>179</th>\n",
              "      <th>180</th>\n",
              "      <th>181</th>\n",
              "      <th>182</th>\n",
              "      <th>183</th>\n",
              "      <th>184</th>\n",
              "      <th>185</th>\n",
              "      <th>186</th>\n",
              "      <th>187</th>\n",
              "      <th>188</th>\n",
              "      <th>189</th>\n",
              "      <th>190</th>\n",
              "      <th>191</th>\n",
              "      <th>192</th>\n",
              "      <th>193</th>\n",
              "      <th>194</th>\n",
              "      <th>195</th>\n",
              "      <th>196</th>\n",
              "      <th>197</th>\n",
              "      <th>198</th>\n",
              "      <th>199</th>\n",
              "      <th>200</th>\n",
              "      <th>201</th>\n",
              "      <th>202</th>\n",
              "      <th>203</th>\n",
              "      <th>204</th>\n",
              "      <th>205</th>\n",
              "      <th>206</th>\n",
              "      <th>207</th>\n",
              "      <th>208</th>\n",
              "      <th>209</th>\n",
              "      <th>210</th>\n",
              "      <th>211</th>\n",
              "      <th>212</th>\n",
              "      <th>213</th>\n",
              "      <th>214</th>\n",
              "      <th>215</th>\n",
              "      <th>labels</th>\n",
              "    </tr>\n",
              "  </thead>\n",
              "  <tbody>\n",
              "    <tr>\n",
              "      <th>1149</th>\n",
              "      <td>-64.069298</td>\n",
              "      <td>-61.583847</td>\n",
              "      <td>-60.199516</td>\n",
              "      <td>-61.399479</td>\n",
              "      <td>-63.011253</td>\n",
              "      <td>-64.362518</td>\n",
              "      <td>-64.340187</td>\n",
              "      <td>-62.380737</td>\n",
              "      <td>-57.205318</td>\n",
              "      <td>-56.506344</td>\n",
              "      <td>-55.407528</td>\n",
              "      <td>-55.028061</td>\n",
              "      <td>-54.182480</td>\n",
              "      <td>-51.286098</td>\n",
              "      <td>-51.690102</td>\n",
              "      <td>-53.531673</td>\n",
              "      <td>-53.901070</td>\n",
              "      <td>-54.445557</td>\n",
              "      <td>-53.575378</td>\n",
              "      <td>-53.459942</td>\n",
              "      <td>-56.252686</td>\n",
              "      <td>-55.815552</td>\n",
              "      <td>-53.803307</td>\n",
              "      <td>-52.188175</td>\n",
              "      <td>-53.216354</td>\n",
              "      <td>-55.699348</td>\n",
              "      <td>-54.951782</td>\n",
              "      <td>-51.747959</td>\n",
              "      <td>-51.520420</td>\n",
              "      <td>-52.376869</td>\n",
              "      <td>-57.084404</td>\n",
              "      <td>-59.751102</td>\n",
              "      <td>-57.500053</td>\n",
              "      <td>-57.675232</td>\n",
              "      <td>-58.041206</td>\n",
              "      <td>-59.633869</td>\n",
              "      <td>-58.211727</td>\n",
              "      <td>-52.115131</td>\n",
              "      <td>-50.796185</td>\n",
              "      <td>-54.729290</td>\n",
              "      <td>...</td>\n",
              "      <td>-43.149071</td>\n",
              "      <td>-45.489536</td>\n",
              "      <td>-43.857258</td>\n",
              "      <td>-43.488010</td>\n",
              "      <td>-44.975437</td>\n",
              "      <td>-45.981827</td>\n",
              "      <td>-49.045818</td>\n",
              "      <td>-50.778984</td>\n",
              "      <td>-49.663826</td>\n",
              "      <td>-50.738701</td>\n",
              "      <td>-52.584530</td>\n",
              "      <td>-54.514320</td>\n",
              "      <td>-53.282742</td>\n",
              "      <td>-52.640888</td>\n",
              "      <td>-51.464767</td>\n",
              "      <td>-51.073040</td>\n",
              "      <td>-52.584953</td>\n",
              "      <td>-53.922508</td>\n",
              "      <td>-54.797325</td>\n",
              "      <td>-55.149357</td>\n",
              "      <td>-58.647751</td>\n",
              "      <td>-61.262241</td>\n",
              "      <td>-58.751991</td>\n",
              "      <td>-58.789532</td>\n",
              "      <td>-61.626205</td>\n",
              "      <td>-60.958454</td>\n",
              "      <td>-55.016598</td>\n",
              "      <td>-53.179234</td>\n",
              "      <td>-53.906010</td>\n",
              "      <td>-57.565632</td>\n",
              "      <td>-61.704857</td>\n",
              "      <td>-61.492722</td>\n",
              "      <td>-60.767868</td>\n",
              "      <td>-58.912601</td>\n",
              "      <td>-60.554165</td>\n",
              "      <td>-57.685287</td>\n",
              "      <td>-55.272587</td>\n",
              "      <td>-57.469196</td>\n",
              "      <td>-61.436012</td>\n",
              "      <td>female_happy</td>\n",
              "    </tr>\n",
              "    <tr>\n",
              "      <th>1286</th>\n",
              "      <td>-13.886061</td>\n",
              "      <td>-18.039980</td>\n",
              "      <td>-33.130985</td>\n",
              "      <td>-32.123287</td>\n",
              "      <td>-31.344431</td>\n",
              "      <td>-30.635485</td>\n",
              "      <td>-30.362610</td>\n",
              "      <td>-29.676086</td>\n",
              "      <td>-30.685760</td>\n",
              "      <td>-30.442976</td>\n",
              "      <td>-30.615299</td>\n",
              "      <td>-30.902046</td>\n",
              "      <td>-31.289650</td>\n",
              "      <td>-31.307953</td>\n",
              "      <td>-31.896574</td>\n",
              "      <td>-33.504570</td>\n",
              "      <td>-32.568344</td>\n",
              "      <td>-31.539145</td>\n",
              "      <td>-32.906754</td>\n",
              "      <td>-33.353401</td>\n",
              "      <td>-34.408813</td>\n",
              "      <td>-36.974155</td>\n",
              "      <td>-37.611179</td>\n",
              "      <td>-34.071373</td>\n",
              "      <td>-32.877632</td>\n",
              "      <td>-33.402153</td>\n",
              "      <td>-34.260445</td>\n",
              "      <td>-31.966566</td>\n",
              "      <td>-31.273001</td>\n",
              "      <td>-31.757053</td>\n",
              "      <td>-31.633137</td>\n",
              "      <td>-31.296049</td>\n",
              "      <td>-32.356968</td>\n",
              "      <td>-30.001200</td>\n",
              "      <td>-29.682076</td>\n",
              "      <td>-28.979858</td>\n",
              "      <td>-27.833565</td>\n",
              "      <td>-28.079479</td>\n",
              "      <td>-28.725019</td>\n",
              "      <td>-28.949400</td>\n",
              "      <td>...</td>\n",
              "      <td>NaN</td>\n",
              "      <td>NaN</td>\n",
              "      <td>NaN</td>\n",
              "      <td>NaN</td>\n",
              "      <td>NaN</td>\n",
              "      <td>NaN</td>\n",
              "      <td>NaN</td>\n",
              "      <td>NaN</td>\n",
              "      <td>NaN</td>\n",
              "      <td>NaN</td>\n",
              "      <td>NaN</td>\n",
              "      <td>NaN</td>\n",
              "      <td>NaN</td>\n",
              "      <td>NaN</td>\n",
              "      <td>NaN</td>\n",
              "      <td>NaN</td>\n",
              "      <td>NaN</td>\n",
              "      <td>NaN</td>\n",
              "      <td>NaN</td>\n",
              "      <td>NaN</td>\n",
              "      <td>NaN</td>\n",
              "      <td>NaN</td>\n",
              "      <td>NaN</td>\n",
              "      <td>NaN</td>\n",
              "      <td>NaN</td>\n",
              "      <td>NaN</td>\n",
              "      <td>NaN</td>\n",
              "      <td>NaN</td>\n",
              "      <td>NaN</td>\n",
              "      <td>NaN</td>\n",
              "      <td>NaN</td>\n",
              "      <td>NaN</td>\n",
              "      <td>NaN</td>\n",
              "      <td>NaN</td>\n",
              "      <td>NaN</td>\n",
              "      <td>NaN</td>\n",
              "      <td>NaN</td>\n",
              "      <td>NaN</td>\n",
              "      <td>NaN</td>\n",
              "      <td>female_angry</td>\n",
              "    </tr>\n",
              "    <tr>\n",
              "      <th>2038</th>\n",
              "      <td>-56.020809</td>\n",
              "      <td>-55.617264</td>\n",
              "      <td>-55.249573</td>\n",
              "      <td>-55.412136</td>\n",
              "      <td>-54.860023</td>\n",
              "      <td>-53.800117</td>\n",
              "      <td>-51.929226</td>\n",
              "      <td>-50.367561</td>\n",
              "      <td>-49.699360</td>\n",
              "      <td>-50.277687</td>\n",
              "      <td>-51.158264</td>\n",
              "      <td>-50.850002</td>\n",
              "      <td>-49.855042</td>\n",
              "      <td>-49.316170</td>\n",
              "      <td>-49.700859</td>\n",
              "      <td>-50.777500</td>\n",
              "      <td>-51.606506</td>\n",
              "      <td>-52.183781</td>\n",
              "      <td>-51.975674</td>\n",
              "      <td>-49.710781</td>\n",
              "      <td>-49.679317</td>\n",
              "      <td>-51.553505</td>\n",
              "      <td>-52.027870</td>\n",
              "      <td>-51.725090</td>\n",
              "      <td>-52.540890</td>\n",
              "      <td>-53.536255</td>\n",
              "      <td>-50.220680</td>\n",
              "      <td>-50.143276</td>\n",
              "      <td>-51.313618</td>\n",
              "      <td>-50.321636</td>\n",
              "      <td>-48.807701</td>\n",
              "      <td>-48.676411</td>\n",
              "      <td>-50.236248</td>\n",
              "      <td>-51.497536</td>\n",
              "      <td>-51.531860</td>\n",
              "      <td>-53.156662</td>\n",
              "      <td>-56.383160</td>\n",
              "      <td>-57.317032</td>\n",
              "      <td>-56.626549</td>\n",
              "      <td>-54.335060</td>\n",
              "      <td>...</td>\n",
              "      <td>-43.072884</td>\n",
              "      <td>-44.110928</td>\n",
              "      <td>-44.793953</td>\n",
              "      <td>-45.468422</td>\n",
              "      <td>-44.627956</td>\n",
              "      <td>-43.983982</td>\n",
              "      <td>-43.216572</td>\n",
              "      <td>-43.000446</td>\n",
              "      <td>-41.975479</td>\n",
              "      <td>-40.317379</td>\n",
              "      <td>-41.400887</td>\n",
              "      <td>-42.173710</td>\n",
              "      <td>-41.558372</td>\n",
              "      <td>-41.656914</td>\n",
              "      <td>-43.288815</td>\n",
              "      <td>-44.508400</td>\n",
              "      <td>-46.345417</td>\n",
              "      <td>-47.368385</td>\n",
              "      <td>-48.889370</td>\n",
              "      <td>-47.669350</td>\n",
              "      <td>-48.590012</td>\n",
              "      <td>-48.883610</td>\n",
              "      <td>-48.934963</td>\n",
              "      <td>-49.411758</td>\n",
              "      <td>-48.698997</td>\n",
              "      <td>-47.546562</td>\n",
              "      <td>-47.727928</td>\n",
              "      <td>-49.429081</td>\n",
              "      <td>-52.206459</td>\n",
              "      <td>-52.207706</td>\n",
              "      <td>-50.861938</td>\n",
              "      <td>-49.661312</td>\n",
              "      <td>-49.058369</td>\n",
              "      <td>-47.725826</td>\n",
              "      <td>-47.595242</td>\n",
              "      <td>-48.072186</td>\n",
              "      <td>-48.019505</td>\n",
              "      <td>-48.827690</td>\n",
              "      <td>-50.340172</td>\n",
              "      <td>female_happy</td>\n",
              "    </tr>\n",
              "    <tr>\n",
              "      <th>1327</th>\n",
              "      <td>-21.424559</td>\n",
              "      <td>-23.308155</td>\n",
              "      <td>-30.438511</td>\n",
              "      <td>-32.379715</td>\n",
              "      <td>-31.563015</td>\n",
              "      <td>-30.839529</td>\n",
              "      <td>-31.074759</td>\n",
              "      <td>-31.555790</td>\n",
              "      <td>-31.354265</td>\n",
              "      <td>-30.858797</td>\n",
              "      <td>-31.530308</td>\n",
              "      <td>-31.083498</td>\n",
              "      <td>-30.440886</td>\n",
              "      <td>-31.205906</td>\n",
              "      <td>-31.176882</td>\n",
              "      <td>-31.180779</td>\n",
              "      <td>-31.400240</td>\n",
              "      <td>-31.633106</td>\n",
              "      <td>-32.565914</td>\n",
              "      <td>-32.720543</td>\n",
              "      <td>-32.710484</td>\n",
              "      <td>-32.074093</td>\n",
              "      <td>-33.560947</td>\n",
              "      <td>-33.845619</td>\n",
              "      <td>-33.216488</td>\n",
              "      <td>-32.318993</td>\n",
              "      <td>-32.133545</td>\n",
              "      <td>-32.538757</td>\n",
              "      <td>-34.368160</td>\n",
              "      <td>-32.624458</td>\n",
              "      <td>-31.366566</td>\n",
              "      <td>-31.226971</td>\n",
              "      <td>-31.143209</td>\n",
              "      <td>-31.857616</td>\n",
              "      <td>-31.067980</td>\n",
              "      <td>-29.209225</td>\n",
              "      <td>-25.931549</td>\n",
              "      <td>-26.382996</td>\n",
              "      <td>-25.297464</td>\n",
              "      <td>-28.868971</td>\n",
              "      <td>...</td>\n",
              "      <td>NaN</td>\n",
              "      <td>NaN</td>\n",
              "      <td>NaN</td>\n",
              "      <td>NaN</td>\n",
              "      <td>NaN</td>\n",
              "      <td>NaN</td>\n",
              "      <td>NaN</td>\n",
              "      <td>NaN</td>\n",
              "      <td>NaN</td>\n",
              "      <td>NaN</td>\n",
              "      <td>NaN</td>\n",
              "      <td>NaN</td>\n",
              "      <td>NaN</td>\n",
              "      <td>NaN</td>\n",
              "      <td>NaN</td>\n",
              "      <td>NaN</td>\n",
              "      <td>NaN</td>\n",
              "      <td>NaN</td>\n",
              "      <td>NaN</td>\n",
              "      <td>NaN</td>\n",
              "      <td>NaN</td>\n",
              "      <td>NaN</td>\n",
              "      <td>NaN</td>\n",
              "      <td>NaN</td>\n",
              "      <td>NaN</td>\n",
              "      <td>NaN</td>\n",
              "      <td>NaN</td>\n",
              "      <td>NaN</td>\n",
              "      <td>NaN</td>\n",
              "      <td>NaN</td>\n",
              "      <td>NaN</td>\n",
              "      <td>NaN</td>\n",
              "      <td>NaN</td>\n",
              "      <td>NaN</td>\n",
              "      <td>NaN</td>\n",
              "      <td>NaN</td>\n",
              "      <td>NaN</td>\n",
              "      <td>NaN</td>\n",
              "      <td>NaN</td>\n",
              "      <td>female_angry</td>\n",
              "    </tr>\n",
              "    <tr>\n",
              "      <th>1931</th>\n",
              "      <td>-48.578926</td>\n",
              "      <td>-46.895561</td>\n",
              "      <td>-47.236275</td>\n",
              "      <td>-48.486771</td>\n",
              "      <td>-48.078396</td>\n",
              "      <td>-47.657047</td>\n",
              "      <td>-48.304131</td>\n",
              "      <td>-48.670181</td>\n",
              "      <td>-49.700497</td>\n",
              "      <td>-51.626358</td>\n",
              "      <td>-51.896202</td>\n",
              "      <td>-51.691467</td>\n",
              "      <td>-51.743408</td>\n",
              "      <td>-51.513386</td>\n",
              "      <td>-50.034298</td>\n",
              "      <td>-48.711021</td>\n",
              "      <td>-49.949539</td>\n",
              "      <td>-49.609642</td>\n",
              "      <td>-47.529442</td>\n",
              "      <td>-45.680656</td>\n",
              "      <td>-45.640648</td>\n",
              "      <td>-46.261055</td>\n",
              "      <td>-45.858131</td>\n",
              "      <td>-45.401009</td>\n",
              "      <td>-45.319580</td>\n",
              "      <td>-47.873535</td>\n",
              "      <td>-48.661091</td>\n",
              "      <td>-50.770226</td>\n",
              "      <td>-51.272385</td>\n",
              "      <td>-51.586567</td>\n",
              "      <td>-51.691616</td>\n",
              "      <td>-50.557621</td>\n",
              "      <td>-50.463039</td>\n",
              "      <td>-49.890488</td>\n",
              "      <td>-48.814140</td>\n",
              "      <td>-49.510799</td>\n",
              "      <td>-51.704247</td>\n",
              "      <td>-50.400288</td>\n",
              "      <td>-48.784645</td>\n",
              "      <td>-48.909122</td>\n",
              "      <td>...</td>\n",
              "      <td>-21.244129</td>\n",
              "      <td>-23.694141</td>\n",
              "      <td>-25.458605</td>\n",
              "      <td>-24.867167</td>\n",
              "      <td>-25.192415</td>\n",
              "      <td>-27.131359</td>\n",
              "      <td>-26.345867</td>\n",
              "      <td>-24.604855</td>\n",
              "      <td>-24.711735</td>\n",
              "      <td>-25.697641</td>\n",
              "      <td>-24.747993</td>\n",
              "      <td>-22.905806</td>\n",
              "      <td>-23.459856</td>\n",
              "      <td>-24.023569</td>\n",
              "      <td>-22.888546</td>\n",
              "      <td>-22.553516</td>\n",
              "      <td>-25.044117</td>\n",
              "      <td>-23.883736</td>\n",
              "      <td>-25.543770</td>\n",
              "      <td>-25.949524</td>\n",
              "      <td>-26.493980</td>\n",
              "      <td>-26.941799</td>\n",
              "      <td>-27.700605</td>\n",
              "      <td>-29.746986</td>\n",
              "      <td>-30.313108</td>\n",
              "      <td>-30.211901</td>\n",
              "      <td>-32.968437</td>\n",
              "      <td>-36.928513</td>\n",
              "      <td>-35.940823</td>\n",
              "      <td>-35.756771</td>\n",
              "      <td>-36.768124</td>\n",
              "      <td>-36.884781</td>\n",
              "      <td>-37.734669</td>\n",
              "      <td>-38.832890</td>\n",
              "      <td>-41.131294</td>\n",
              "      <td>-41.172161</td>\n",
              "      <td>-43.698784</td>\n",
              "      <td>-45.843166</td>\n",
              "      <td>-46.044880</td>\n",
              "      <td>male_sad</td>\n",
              "    </tr>\n",
              "    <tr>\n",
              "      <th>1440</th>\n",
              "      <td>-21.026947</td>\n",
              "      <td>-23.916792</td>\n",
              "      <td>-29.844248</td>\n",
              "      <td>-28.575409</td>\n",
              "      <td>-28.936159</td>\n",
              "      <td>-29.011082</td>\n",
              "      <td>-30.418760</td>\n",
              "      <td>-32.656895</td>\n",
              "      <td>-32.076939</td>\n",
              "      <td>-30.862461</td>\n",
              "      <td>-29.279842</td>\n",
              "      <td>-28.848236</td>\n",
              "      <td>-29.759245</td>\n",
              "      <td>-30.344225</td>\n",
              "      <td>-31.107952</td>\n",
              "      <td>-30.878124</td>\n",
              "      <td>-29.835703</td>\n",
              "      <td>-31.126970</td>\n",
              "      <td>-31.734232</td>\n",
              "      <td>-32.319950</td>\n",
              "      <td>-32.815018</td>\n",
              "      <td>-33.733902</td>\n",
              "      <td>-32.640411</td>\n",
              "      <td>-31.887054</td>\n",
              "      <td>-32.024467</td>\n",
              "      <td>-33.314323</td>\n",
              "      <td>-33.532372</td>\n",
              "      <td>-31.658367</td>\n",
              "      <td>-30.805786</td>\n",
              "      <td>-30.162922</td>\n",
              "      <td>-29.324932</td>\n",
              "      <td>-28.841087</td>\n",
              "      <td>-27.854544</td>\n",
              "      <td>-28.184397</td>\n",
              "      <td>-28.632414</td>\n",
              "      <td>-29.725258</td>\n",
              "      <td>-27.423418</td>\n",
              "      <td>-25.353018</td>\n",
              "      <td>-26.818363</td>\n",
              "      <td>-27.459196</td>\n",
              "      <td>...</td>\n",
              "      <td>NaN</td>\n",
              "      <td>NaN</td>\n",
              "      <td>NaN</td>\n",
              "      <td>NaN</td>\n",
              "      <td>NaN</td>\n",
              "      <td>NaN</td>\n",
              "      <td>NaN</td>\n",
              "      <td>NaN</td>\n",
              "      <td>NaN</td>\n",
              "      <td>NaN</td>\n",
              "      <td>NaN</td>\n",
              "      <td>NaN</td>\n",
              "      <td>NaN</td>\n",
              "      <td>NaN</td>\n",
              "      <td>NaN</td>\n",
              "      <td>NaN</td>\n",
              "      <td>NaN</td>\n",
              "      <td>NaN</td>\n",
              "      <td>NaN</td>\n",
              "      <td>NaN</td>\n",
              "      <td>NaN</td>\n",
              "      <td>NaN</td>\n",
              "      <td>NaN</td>\n",
              "      <td>NaN</td>\n",
              "      <td>NaN</td>\n",
              "      <td>NaN</td>\n",
              "      <td>NaN</td>\n",
              "      <td>NaN</td>\n",
              "      <td>NaN</td>\n",
              "      <td>NaN</td>\n",
              "      <td>NaN</td>\n",
              "      <td>NaN</td>\n",
              "      <td>NaN</td>\n",
              "      <td>NaN</td>\n",
              "      <td>NaN</td>\n",
              "      <td>NaN</td>\n",
              "      <td>NaN</td>\n",
              "      <td>NaN</td>\n",
              "      <td>NaN</td>\n",
              "      <td>female_angry</td>\n",
              "    </tr>\n",
              "    <tr>\n",
              "      <th>2258</th>\n",
              "      <td>-41.384239</td>\n",
              "      <td>-41.737446</td>\n",
              "      <td>-41.841331</td>\n",
              "      <td>-41.788242</td>\n",
              "      <td>-41.841331</td>\n",
              "      <td>-41.841331</td>\n",
              "      <td>-41.841331</td>\n",
              "      <td>-41.129440</td>\n",
              "      <td>-39.942932</td>\n",
              "      <td>-40.544277</td>\n",
              "      <td>-41.563511</td>\n",
              "      <td>-40.242527</td>\n",
              "      <td>-35.135864</td>\n",
              "      <td>-31.387047</td>\n",
              "      <td>-34.199184</td>\n",
              "      <td>-36.804016</td>\n",
              "      <td>-36.470150</td>\n",
              "      <td>-37.384182</td>\n",
              "      <td>-38.440426</td>\n",
              "      <td>-38.797844</td>\n",
              "      <td>-37.544468</td>\n",
              "      <td>-37.934368</td>\n",
              "      <td>-37.234196</td>\n",
              "      <td>-35.851292</td>\n",
              "      <td>-37.585785</td>\n",
              "      <td>-36.607201</td>\n",
              "      <td>-34.568069</td>\n",
              "      <td>-36.424839</td>\n",
              "      <td>-36.507908</td>\n",
              "      <td>-35.939384</td>\n",
              "      <td>-35.244202</td>\n",
              "      <td>-33.460609</td>\n",
              "      <td>-35.602890</td>\n",
              "      <td>-30.071409</td>\n",
              "      <td>-27.601078</td>\n",
              "      <td>-30.455040</td>\n",
              "      <td>-33.626366</td>\n",
              "      <td>-34.060806</td>\n",
              "      <td>-34.351776</td>\n",
              "      <td>-33.970016</td>\n",
              "      <td>...</td>\n",
              "      <td>-19.161854</td>\n",
              "      <td>-20.249838</td>\n",
              "      <td>-20.376614</td>\n",
              "      <td>-20.414635</td>\n",
              "      <td>-19.402168</td>\n",
              "      <td>-18.581654</td>\n",
              "      <td>-19.512173</td>\n",
              "      <td>-21.108259</td>\n",
              "      <td>-21.704355</td>\n",
              "      <td>-20.850788</td>\n",
              "      <td>-21.122904</td>\n",
              "      <td>-21.357252</td>\n",
              "      <td>-19.634809</td>\n",
              "      <td>-18.039217</td>\n",
              "      <td>-16.810732</td>\n",
              "      <td>-18.049721</td>\n",
              "      <td>-18.021107</td>\n",
              "      <td>-18.482784</td>\n",
              "      <td>-17.948320</td>\n",
              "      <td>-18.541969</td>\n",
              "      <td>-18.708885</td>\n",
              "      <td>-17.030922</td>\n",
              "      <td>-16.238077</td>\n",
              "      <td>-17.525637</td>\n",
              "      <td>-20.304535</td>\n",
              "      <td>-20.119337</td>\n",
              "      <td>-22.452553</td>\n",
              "      <td>-22.560047</td>\n",
              "      <td>-23.868961</td>\n",
              "      <td>-25.160088</td>\n",
              "      <td>-24.796741</td>\n",
              "      <td>-26.133371</td>\n",
              "      <td>-30.697853</td>\n",
              "      <td>-32.224316</td>\n",
              "      <td>-32.934696</td>\n",
              "      <td>-31.673471</td>\n",
              "      <td>-32.869686</td>\n",
              "      <td>-34.093655</td>\n",
              "      <td>-35.078102</td>\n",
              "      <td>male_angry</td>\n",
              "    </tr>\n",
              "    <tr>\n",
              "      <th>484</th>\n",
              "      <td>-22.305107</td>\n",
              "      <td>-24.249554</td>\n",
              "      <td>-28.156017</td>\n",
              "      <td>-26.770021</td>\n",
              "      <td>-27.555725</td>\n",
              "      <td>-25.132244</td>\n",
              "      <td>-19.990551</td>\n",
              "      <td>-18.960316</td>\n",
              "      <td>-18.745121</td>\n",
              "      <td>-17.836094</td>\n",
              "      <td>-19.523445</td>\n",
              "      <td>-18.423815</td>\n",
              "      <td>-15.913584</td>\n",
              "      <td>-14.641150</td>\n",
              "      <td>-15.035804</td>\n",
              "      <td>-15.849688</td>\n",
              "      <td>-15.668070</td>\n",
              "      <td>-12.557444</td>\n",
              "      <td>-8.662794</td>\n",
              "      <td>-9.382550</td>\n",
              "      <td>-13.142079</td>\n",
              "      <td>-14.288428</td>\n",
              "      <td>-16.733280</td>\n",
              "      <td>-17.411867</td>\n",
              "      <td>-16.171764</td>\n",
              "      <td>-15.430709</td>\n",
              "      <td>-16.602432</td>\n",
              "      <td>-17.115845</td>\n",
              "      <td>-18.703327</td>\n",
              "      <td>-17.789013</td>\n",
              "      <td>-15.750721</td>\n",
              "      <td>-16.629557</td>\n",
              "      <td>-17.391697</td>\n",
              "      <td>-14.475002</td>\n",
              "      <td>-13.020624</td>\n",
              "      <td>-12.268641</td>\n",
              "      <td>-11.508184</td>\n",
              "      <td>-10.285531</td>\n",
              "      <td>-7.253576</td>\n",
              "      <td>-7.807518</td>\n",
              "      <td>...</td>\n",
              "      <td>NaN</td>\n",
              "      <td>NaN</td>\n",
              "      <td>NaN</td>\n",
              "      <td>NaN</td>\n",
              "      <td>NaN</td>\n",
              "      <td>NaN</td>\n",
              "      <td>NaN</td>\n",
              "      <td>NaN</td>\n",
              "      <td>NaN</td>\n",
              "      <td>NaN</td>\n",
              "      <td>NaN</td>\n",
              "      <td>NaN</td>\n",
              "      <td>NaN</td>\n",
              "      <td>NaN</td>\n",
              "      <td>NaN</td>\n",
              "      <td>NaN</td>\n",
              "      <td>NaN</td>\n",
              "      <td>NaN</td>\n",
              "      <td>NaN</td>\n",
              "      <td>NaN</td>\n",
              "      <td>NaN</td>\n",
              "      <td>NaN</td>\n",
              "      <td>NaN</td>\n",
              "      <td>NaN</td>\n",
              "      <td>NaN</td>\n",
              "      <td>NaN</td>\n",
              "      <td>NaN</td>\n",
              "      <td>NaN</td>\n",
              "      <td>NaN</td>\n",
              "      <td>NaN</td>\n",
              "      <td>NaN</td>\n",
              "      <td>NaN</td>\n",
              "      <td>NaN</td>\n",
              "      <td>NaN</td>\n",
              "      <td>NaN</td>\n",
              "      <td>NaN</td>\n",
              "      <td>NaN</td>\n",
              "      <td>NaN</td>\n",
              "      <td>NaN</td>\n",
              "      <td>female_sad</td>\n",
              "    </tr>\n",
              "    <tr>\n",
              "      <th>2317</th>\n",
              "      <td>-58.702000</td>\n",
              "      <td>-61.211185</td>\n",
              "      <td>-59.182697</td>\n",
              "      <td>-60.142807</td>\n",
              "      <td>-65.112366</td>\n",
              "      <td>-65.575691</td>\n",
              "      <td>-65.575691</td>\n",
              "      <td>-65.575691</td>\n",
              "      <td>-63.246399</td>\n",
              "      <td>-58.243263</td>\n",
              "      <td>-56.491257</td>\n",
              "      <td>-58.930138</td>\n",
              "      <td>-56.655418</td>\n",
              "      <td>-56.397270</td>\n",
              "      <td>-60.908627</td>\n",
              "      <td>-58.987995</td>\n",
              "      <td>-60.276264</td>\n",
              "      <td>-58.776005</td>\n",
              "      <td>-56.121975</td>\n",
              "      <td>-56.740662</td>\n",
              "      <td>-57.250248</td>\n",
              "      <td>-57.697147</td>\n",
              "      <td>-62.349243</td>\n",
              "      <td>-61.773495</td>\n",
              "      <td>-62.562843</td>\n",
              "      <td>-61.511917</td>\n",
              "      <td>-58.806541</td>\n",
              "      <td>-58.772377</td>\n",
              "      <td>-60.320881</td>\n",
              "      <td>-59.307171</td>\n",
              "      <td>-58.685513</td>\n",
              "      <td>-61.693913</td>\n",
              "      <td>-61.363510</td>\n",
              "      <td>-61.370728</td>\n",
              "      <td>-60.871864</td>\n",
              "      <td>-62.133583</td>\n",
              "      <td>-58.736877</td>\n",
              "      <td>-57.318829</td>\n",
              "      <td>-59.992188</td>\n",
              "      <td>-54.694675</td>\n",
              "      <td>...</td>\n",
              "      <td>-61.213440</td>\n",
              "      <td>-65.163887</td>\n",
              "      <td>-64.322472</td>\n",
              "      <td>-64.491707</td>\n",
              "      <td>-61.732056</td>\n",
              "      <td>-60.011971</td>\n",
              "      <td>-62.100868</td>\n",
              "      <td>-65.575691</td>\n",
              "      <td>-65.575691</td>\n",
              "      <td>-61.348415</td>\n",
              "      <td>-59.582073</td>\n",
              "      <td>-61.592281</td>\n",
              "      <td>-65.127289</td>\n",
              "      <td>-65.575691</td>\n",
              "      <td>-64.102409</td>\n",
              "      <td>-64.184708</td>\n",
              "      <td>-59.812466</td>\n",
              "      <td>-58.519413</td>\n",
              "      <td>-58.026932</td>\n",
              "      <td>-57.822472</td>\n",
              "      <td>-56.973293</td>\n",
              "      <td>-54.852669</td>\n",
              "      <td>-56.214371</td>\n",
              "      <td>-58.319275</td>\n",
              "      <td>-58.650810</td>\n",
              "      <td>-61.839336</td>\n",
              "      <td>-65.575691</td>\n",
              "      <td>-64.403755</td>\n",
              "      <td>-63.350037</td>\n",
              "      <td>-63.276413</td>\n",
              "      <td>-60.142990</td>\n",
              "      <td>-57.386471</td>\n",
              "      <td>-56.711552</td>\n",
              "      <td>-56.970543</td>\n",
              "      <td>-58.692673</td>\n",
              "      <td>-62.731918</td>\n",
              "      <td>-59.266068</td>\n",
              "      <td>-58.824970</td>\n",
              "      <td>-62.470280</td>\n",
              "      <td>male_calm</td>\n",
              "    </tr>\n",
              "    <tr>\n",
              "      <th>2635</th>\n",
              "      <td>-25.719450</td>\n",
              "      <td>-24.940716</td>\n",
              "      <td>-24.575724</td>\n",
              "      <td>-25.263288</td>\n",
              "      <td>-25.504509</td>\n",
              "      <td>-25.318981</td>\n",
              "      <td>-25.813129</td>\n",
              "      <td>-24.497633</td>\n",
              "      <td>-24.804119</td>\n",
              "      <td>-24.819019</td>\n",
              "      <td>-23.920170</td>\n",
              "      <td>-24.318623</td>\n",
              "      <td>-25.865757</td>\n",
              "      <td>-25.268503</td>\n",
              "      <td>-26.714745</td>\n",
              "      <td>-25.583088</td>\n",
              "      <td>-24.267897</td>\n",
              "      <td>-25.159870</td>\n",
              "      <td>-25.522041</td>\n",
              "      <td>-22.890316</td>\n",
              "      <td>-23.376354</td>\n",
              "      <td>-26.236437</td>\n",
              "      <td>-24.959278</td>\n",
              "      <td>-25.388096</td>\n",
              "      <td>-25.359587</td>\n",
              "      <td>-25.370518</td>\n",
              "      <td>-24.402222</td>\n",
              "      <td>-24.491453</td>\n",
              "      <td>-25.386566</td>\n",
              "      <td>-24.313328</td>\n",
              "      <td>-24.631187</td>\n",
              "      <td>-25.470467</td>\n",
              "      <td>-25.992079</td>\n",
              "      <td>-21.527119</td>\n",
              "      <td>-11.045405</td>\n",
              "      <td>-7.774550</td>\n",
              "      <td>-5.627151</td>\n",
              "      <td>-5.455442</td>\n",
              "      <td>-6.539254</td>\n",
              "      <td>-9.552817</td>\n",
              "      <td>...</td>\n",
              "      <td>-26.551390</td>\n",
              "      <td>-27.390421</td>\n",
              "      <td>-25.358473</td>\n",
              "      <td>-26.287712</td>\n",
              "      <td>-26.940073</td>\n",
              "      <td>-26.712751</td>\n",
              "      <td>-27.681532</td>\n",
              "      <td>-28.306112</td>\n",
              "      <td>-28.171537</td>\n",
              "      <td>-27.907438</td>\n",
              "      <td>-27.767803</td>\n",
              "      <td>-27.718445</td>\n",
              "      <td>-28.637907</td>\n",
              "      <td>-28.859846</td>\n",
              "      <td>-29.347988</td>\n",
              "      <td>-28.700603</td>\n",
              "      <td>-27.711971</td>\n",
              "      <td>-27.257608</td>\n",
              "      <td>-26.091146</td>\n",
              "      <td>-25.730713</td>\n",
              "      <td>-26.954903</td>\n",
              "      <td>-25.963137</td>\n",
              "      <td>-26.502201</td>\n",
              "      <td>-26.504290</td>\n",
              "      <td>-25.257717</td>\n",
              "      <td>-26.958139</td>\n",
              "      <td>-27.628815</td>\n",
              "      <td>-28.042786</td>\n",
              "      <td>-27.619396</td>\n",
              "      <td>-27.431826</td>\n",
              "      <td>-27.526598</td>\n",
              "      <td>-27.231541</td>\n",
              "      <td>-26.955688</td>\n",
              "      <td>-27.470659</td>\n",
              "      <td>-27.406910</td>\n",
              "      <td>-27.556011</td>\n",
              "      <td>-27.697170</td>\n",
              "      <td>-26.847605</td>\n",
              "      <td>-27.024200</td>\n",
              "      <td>male_sad</td>\n",
              "    </tr>\n",
              "  </tbody>\n",
              "</table>\n",
              "<p>10 rows × 217 columns</p>\n",
              "</div>"
            ],
            "text/plain": [
              "              0          1          2  ...        214        215        labels\n",
              "1149 -64.069298 -61.583847 -60.199516  ... -57.469196 -61.436012  female_happy\n",
              "1286 -13.886061 -18.039980 -33.130985  ...        NaN        NaN  female_angry\n",
              "2038 -56.020809 -55.617264 -55.249573  ... -48.827690 -50.340172  female_happy\n",
              "1327 -21.424559 -23.308155 -30.438511  ...        NaN        NaN  female_angry\n",
              "1931 -48.578926 -46.895561 -47.236275  ... -45.843166 -46.044880      male_sad\n",
              "1440 -21.026947 -23.916792 -29.844248  ...        NaN        NaN  female_angry\n",
              "2258 -41.384239 -41.737446 -41.841331  ... -34.093655 -35.078102    male_angry\n",
              "484  -22.305107 -24.249554 -28.156017  ...        NaN        NaN    female_sad\n",
              "2317 -58.702000 -61.211185 -59.182697  ... -58.824970 -62.470280     male_calm\n",
              "2635 -25.719450 -24.940716 -24.575724  ... -26.847605 -27.024200      male_sad\n",
              "\n",
              "[10 rows x 217 columns]"
            ]
          },
          "metadata": {},
          "execution_count": 218
        }
      ]
    },
    {
      "cell_type": "code",
      "metadata": {
        "colab": {
          "base_uri": "https://localhost:8080/"
        },
        "id": "vnfj9DGoPIa9",
        "outputId": "d6f6a3bc-e11a-424e-fcb5-2216280d0aa6"
      },
      "source": [
        "nulls = rnewdf.isnull().sum()\n",
        "print(nulls)"
      ],
      "execution_count": null,
      "outputs": [
        {
          "output_type": "stream",
          "name": "stdout",
          "text": [
            "0            0\n",
            "1            0\n",
            "2            0\n",
            "3            0\n",
            "4            0\n",
            "          ... \n",
            "212       1648\n",
            "213       1648\n",
            "214       1649\n",
            "215       1651\n",
            "labels       0\n",
            "Length: 217, dtype: int64\n"
          ]
        }
      ]
    },
    {
      "cell_type": "code",
      "metadata": {
        "id": "HjGxHnZgSIgR"
      },
      "source": [
        "rnewdf.dropna(subset = [\"labels\"], inplace=True)"
      ],
      "execution_count": null,
      "outputs": []
    },
    {
      "cell_type": "code",
      "metadata": {
        "id": "RQFI4vFsT4ni"
      },
      "source": [
        "rnewdf=rnewdf.fillna(0)"
      ],
      "execution_count": null,
      "outputs": []
    },
    {
      "cell_type": "code",
      "metadata": {
        "colab": {
          "base_uri": "https://localhost:8080/"
        },
        "id": "x-SNk5qgPiK7",
        "outputId": "77f0e0b8-56b6-4e8e-a255-36c96301b56f"
      },
      "source": [
        "nulls = rnewdf.isnull().sum()\n",
        "print(nulls)"
      ],
      "execution_count": null,
      "outputs": [
        {
          "output_type": "stream",
          "name": "stdout",
          "text": [
            "0         0\n",
            "1         0\n",
            "2         0\n",
            "3         0\n",
            "4         0\n",
            "         ..\n",
            "212       0\n",
            "213       0\n",
            "214       0\n",
            "215       0\n",
            "labels    0\n",
            "Length: 217, dtype: int64\n"
          ]
        }
      ]
    },
    {
      "cell_type": "markdown",
      "metadata": {
        "id": "OTnhMSVCT735"
      },
      "source": [
        "## **Dividing the data into test and train**"
      ]
    },
    {
      "cell_type": "code",
      "metadata": {
        "id": "69MatX38T8xX"
      },
      "source": [
        "newdf1 = np.random.rand(len(rnewdf)) < 0.8\n",
        "train = rnewdf[newdf1]\n",
        "test = rnewdf[~newdf1]"
      ],
      "execution_count": null,
      "outputs": []
    },
    {
      "cell_type": "code",
      "metadata": {
        "colab": {
          "base_uri": "https://localhost:8080/"
        },
        "id": "i161JlGuaPpR",
        "outputId": "b319d895-153e-4b3e-d73a-e7c2d58bda77"
      },
      "source": [
        "!pip install np_utils"
      ],
      "execution_count": null,
      "outputs": [
        {
          "output_type": "stream",
          "name": "stdout",
          "text": [
            "Requirement already satisfied: np_utils in /usr/local/lib/python3.7/dist-packages (0.5.12.1)\n",
            "Requirement already satisfied: numpy>=1.0 in /usr/local/lib/python3.7/dist-packages (from np_utils) (1.19.5)\n",
            "Requirement already satisfied: future>=0.16 in /usr/local/lib/python3.7/dist-packages (from np_utils) (0.16.0)\n"
          ]
        }
      ]
    },
    {
      "cell_type": "code",
      "metadata": {
        "colab": {
          "base_uri": "https://localhost:8080/"
        },
        "id": "ptw3acJGULCp",
        "outputId": "2ee3c60b-4402-4c5c-cd36-bb77207b8452"
      },
      "source": [
        "from tensorflow.keras.utils import to_categorical\n",
        "from sklearn.preprocessing import LabelEncoder\n",
        "from sklearn.model_selection import train_test_split\n",
        "\n",
        "x_train, x_test, y_train, y_test = train_test_split(rnewdf.iloc[:, :-1], rnewdf.iloc[:, -1:], test_size=0.2, shuffle=True, random_state=42)\n",
        "\n",
        "#X_train = np.array(trainfeatures)\n",
        "#y_train = np.array(trainlabel)\n",
        "#X_test = np.array(testfeatures)\n",
        "#y_test = np.array(testlabel)\n",
        "#y_test_cm = np.array(testlabel)\n",
        "\n",
        "lb = LabelEncoder()\n",
        "\n",
        "y_train = to_categorical(lb.fit_transform(y_train))\n",
        "y_test = to_categorical(lb.fit_transform(y_test))\n"
      ],
      "execution_count": null,
      "outputs": [
        {
          "output_type": "stream",
          "name": "stderr",
          "text": [
            "/usr/local/lib/python3.7/dist-packages/sklearn/preprocessing/_label.py:115: DataConversionWarning: A column-vector y was passed when a 1d array was expected. Please change the shape of y to (n_samples, ), for example using ravel().\n",
            "  y = column_or_1d(y, warn=True)\n"
          ]
        }
      ]
    },
    {
      "cell_type": "code",
      "metadata": {
        "colab": {
          "base_uri": "https://localhost:8080/"
        },
        "id": "lb2Qt5URURVN",
        "outputId": "77afed21-1372-4b48-aea6-7d205f5aec14"
      },
      "source": [
        "y_train.shape"
      ],
      "execution_count": null,
      "outputs": [
        {
          "output_type": "execute_result",
          "data": {
            "text/plain": [
              "(2240, 10)"
            ]
          },
          "metadata": {},
          "execution_count": 226
        }
      ]
    },
    {
      "cell_type": "code",
      "metadata": {
        "colab": {
          "base_uri": "https://localhost:8080/"
        },
        "id": "iLTspDodc-eM",
        "outputId": "c990b16f-23ad-4506-a1c6-cc3f3732257b"
      },
      "source": [
        "y_test.shape"
      ],
      "execution_count": null,
      "outputs": [
        {
          "output_type": "execute_result",
          "data": {
            "text/plain": [
              "(560, 10)"
            ]
          },
          "metadata": {},
          "execution_count": 227
        }
      ]
    },
    {
      "cell_type": "code",
      "metadata": {
        "colab": {
          "base_uri": "https://localhost:8080/"
        },
        "id": "qNPtlh2GUU2w",
        "outputId": "58749623-c375-44e5-adc9-75bc893bd952"
      },
      "source": [
        "x_train.shape"
      ],
      "execution_count": null,
      "outputs": [
        {
          "output_type": "execute_result",
          "data": {
            "text/plain": [
              "(2240, 216)"
            ]
          },
          "metadata": {},
          "execution_count": 228
        }
      ]
    },
    {
      "cell_type": "code",
      "metadata": {
        "colab": {
          "base_uri": "https://localhost:8080/"
        },
        "id": "lpwNCGK5dE1L",
        "outputId": "6f09c44a-361c-4ec3-ee5e-f0a2632aa713"
      },
      "source": [
        "y_test.shape"
      ],
      "execution_count": null,
      "outputs": [
        {
          "output_type": "execute_result",
          "data": {
            "text/plain": [
              "(560, 10)"
            ]
          },
          "metadata": {},
          "execution_count": 229
        }
      ]
    },
    {
      "cell_type": "markdown",
      "metadata": {
        "id": "cpm24Ih-UcTU"
      },
      "source": [
        "## **Changing dimension for CNN model**"
      ]
    },
    {
      "cell_type": "code",
      "metadata": {
        "id": "TVu5V_XxUW-f"
      },
      "source": [
        "x_traincnn =np.expand_dims(x_train, axis=2)\n",
        "x_testcnn= np.expand_dims(x_test, axis=2)"
      ],
      "execution_count": null,
      "outputs": []
    },
    {
      "cell_type": "code",
      "metadata": {
        "id": "2veUmyi2UY_7"
      },
      "source": [
        "import tensorflow.keras\n",
        "from tensorflow.keras import optimizers\n",
        "from keras import optimizers\n",
        "\n",
        "model = Sequential()\n",
        "\n",
        "model.add(Conv1D(256, 5,padding='same',\n",
        "                 input_shape=(216,1)))\n",
        "model.add(Activation('relu'))\n",
        "model.add(Conv1D(128, 5,padding='same'))\n",
        "model.add(Activation('relu'))\n",
        "model.add(Dropout(0.1))\n",
        "model.add(MaxPooling1D(pool_size=(8)))\n",
        "model.add(Conv1D(128, 5,padding='same',))\n",
        "model.add(Activation('relu'))\n",
        "model.add(Conv1D(128, 5,padding='same',))\n",
        "model.add(Activation('relu'))\n",
        "model.add(Flatten())\n",
        "model.add(Dense(10))\n",
        "model.add(Activation('softmax'))\n",
        "opt = tensorflow.keras.optimizers.RMSprop(learning_rate=0.00005, decay=1e-6)"
      ],
      "execution_count": null,
      "outputs": []
    },
    {
      "cell_type": "code",
      "metadata": {
        "id": "ayK9u83KUiBR",
        "colab": {
          "base_uri": "https://localhost:8080/"
        },
        "outputId": "af92eb05-4fbe-4a40-91bc-1b4ca5aa08b8"
      },
      "source": [
        "model.summary()"
      ],
      "execution_count": null,
      "outputs": [
        {
          "output_type": "stream",
          "name": "stdout",
          "text": [
            "Model: \"sequential_1\"\n",
            "_________________________________________________________________\n",
            " Layer (type)                Output Shape              Param #   \n",
            "=================================================================\n",
            " conv1d_4 (Conv1D)           (None, 216, 256)          1536      \n",
            "                                                                 \n",
            " activation_5 (Activation)   (None, 216, 256)          0         \n",
            "                                                                 \n",
            " conv1d_5 (Conv1D)           (None, 216, 128)          163968    \n",
            "                                                                 \n",
            " activation_6 (Activation)   (None, 216, 128)          0         \n",
            "                                                                 \n",
            " dropout_1 (Dropout)         (None, 216, 128)          0         \n",
            "                                                                 \n",
            " max_pooling1d_1 (MaxPooling  (None, 27, 128)          0         \n",
            " 1D)                                                             \n",
            "                                                                 \n",
            " conv1d_6 (Conv1D)           (None, 27, 128)           82048     \n",
            "                                                                 \n",
            " activation_7 (Activation)   (None, 27, 128)           0         \n",
            "                                                                 \n",
            " conv1d_7 (Conv1D)           (None, 27, 128)           82048     \n",
            "                                                                 \n",
            " activation_8 (Activation)   (None, 27, 128)           0         \n",
            "                                                                 \n",
            " flatten_1 (Flatten)         (None, 3456)              0         \n",
            "                                                                 \n",
            " dense_1 (Dense)             (None, 10)                34570     \n",
            "                                                                 \n",
            " activation_9 (Activation)   (None, 10)                0         \n",
            "                                                                 \n",
            "=================================================================\n",
            "Total params: 364,170\n",
            "Trainable params: 364,170\n",
            "Non-trainable params: 0\n",
            "_________________________________________________________________\n"
          ]
        }
      ]
    },
    {
      "cell_type": "code",
      "metadata": {
        "colab": {
          "base_uri": "https://localhost:8080/"
        },
        "id": "LYhvT6sVTLRf",
        "outputId": "8dacbf3c-4b4d-44a2-ab6f-608bbbeb7908"
      },
      "source": [
        "!pip install tensorflow_addons"
      ],
      "execution_count": null,
      "outputs": [
        {
          "output_type": "stream",
          "name": "stdout",
          "text": [
            "Requirement already satisfied: tensorflow_addons in /usr/local/lib/python3.7/dist-packages (0.15.0)\n",
            "Requirement already satisfied: typeguard>=2.7 in /usr/local/lib/python3.7/dist-packages (from tensorflow_addons) (2.7.1)\n"
          ]
        }
      ]
    },
    {
      "cell_type": "code",
      "metadata": {
        "id": "my8nzjxwSfoz"
      },
      "source": [
        "import tensorflow_addons\n",
        "from tensorflow_addons.metrics import FBetaScore, F1Score"
      ],
      "execution_count": null,
      "outputs": []
    },
    {
      "cell_type": "code",
      "metadata": {
        "id": "d4eiUGTOUrM2"
      },
      "source": [
        "from tensorflow.keras.metrics import Precision, Recall\n",
        "\n",
        "model.compile(loss='categorical_crossentropy',\n",
        "              optimizer=opt,\n",
        "              metrics=['accuracy',\n",
        "                        Precision(name='precision'),\n",
        "                        Recall(name='recall'),\n",
        "                        F1Score(num_classes=10, name='F1Score')])"
      ],
      "execution_count": null,
      "outputs": []
    },
    {
      "cell_type": "markdown",
      "metadata": {
        "id": "r4hBvcO5a9b7"
      },
      "source": [
        "### **Removed the whole training part for avoiding unnecessary long epochs list**"
      ]
    },
    {
      "cell_type": "code",
      "source": [
        "cnnhistory = model.fit(x_traincnn, y_train, batch_size=64, epochs=150, validation_split=0.2)"
      ],
      "metadata": {
        "colab": {
          "base_uri": "https://localhost:8080/"
        },
        "id": "RCjEfFPu44Ma",
        "outputId": "5035b379-8eba-4da4-c371-879e780bfab4"
      },
      "execution_count": null,
      "outputs": [
        {
          "output_type": "stream",
          "name": "stdout",
          "text": [
            "Epoch 1/150\n",
            "28/28 [==============================] - 12s 383ms/step - loss: 1.9642 - accuracy: 0.3013 - precision: 0.6727 - recall: 0.0206 - F1Score: 0.1731 - val_loss: 1.7860 - val_accuracy: 0.3594 - val_precision: 0.8333 - val_recall: 0.0223 - val_F1Score: 0.2342\n",
            "Epoch 2/150\n",
            "28/28 [==============================] - 10s 365ms/step - loss: 1.5744 - accuracy: 0.4118 - precision: 0.7200 - recall: 0.1607 - F1Score: 0.2633 - val_loss: 1.5840 - val_accuracy: 0.3996 - val_precision: 0.7029 - val_recall: 0.2165 - val_F1Score: 0.2170\n",
            "Epoch 3/150\n",
            "28/28 [==============================] - 10s 363ms/step - loss: 1.4673 - accuracy: 0.4425 - precision: 0.7341 - recall: 0.2835 - F1Score: 0.2906 - val_loss: 1.5603 - val_accuracy: 0.4464 - val_precision: 0.7308 - val_recall: 0.2545 - val_F1Score: 0.2902\n",
            "Epoch 4/150\n",
            "28/28 [==============================] - 10s 363ms/step - loss: 1.4231 - accuracy: 0.4464 - precision: 0.7251 - recall: 0.3209 - F1Score: 0.3093 - val_loss: 1.4852 - val_accuracy: 0.4576 - val_precision: 0.7341 - val_recall: 0.2835 - val_F1Score: 0.3101\n",
            "Epoch 5/150\n",
            "28/28 [==============================] - 10s 363ms/step - loss: 1.3928 - accuracy: 0.4643 - precision: 0.7304 - recall: 0.3387 - F1Score: 0.3260 - val_loss: 1.4970 - val_accuracy: 0.4643 - val_precision: 0.7384 - val_recall: 0.2835 - val_F1Score: 0.3091\n",
            "Epoch 6/150\n",
            "28/28 [==============================] - 10s 364ms/step - loss: 1.3656 - accuracy: 0.4715 - precision: 0.7368 - recall: 0.3499 - F1Score: 0.3315 - val_loss: 1.4681 - val_accuracy: 0.4442 - val_precision: 0.7079 - val_recall: 0.3192 - val_F1Score: 0.3096\n",
            "Epoch 7/150\n",
            "28/28 [==============================] - 10s 365ms/step - loss: 1.3234 - accuracy: 0.4872 - precision: 0.7368 - recall: 0.3577 - F1Score: 0.3457 - val_loss: 1.4917 - val_accuracy: 0.4710 - val_precision: 0.7105 - val_recall: 0.3013 - val_F1Score: 0.3386\n",
            "Epoch 8/150\n",
            "28/28 [==============================] - 10s 363ms/step - loss: 1.3154 - accuracy: 0.4927 - precision: 0.7517 - recall: 0.3700 - F1Score: 0.3630 - val_loss: 1.4303 - val_accuracy: 0.4531 - val_precision: 0.7157 - val_recall: 0.3259 - val_F1Score: 0.3140\n",
            "Epoch 9/150\n",
            "28/28 [==============================] - 10s 361ms/step - loss: 1.2862 - accuracy: 0.4983 - precision: 0.7390 - recall: 0.3744 - F1Score: 0.3797 - val_loss: 1.3659 - val_accuracy: 0.4866 - val_precision: 0.7350 - val_recall: 0.3281 - val_F1Score: 0.3963\n",
            "Epoch 10/150\n",
            "28/28 [==============================] - 10s 360ms/step - loss: 1.2686 - accuracy: 0.5134 - precision: 0.7478 - recall: 0.3789 - F1Score: 0.3927 - val_loss: 1.3306 - val_accuracy: 0.4955 - val_precision: 0.7500 - val_recall: 0.3482 - val_F1Score: 0.3437\n",
            "Epoch 11/150\n",
            "28/28 [==============================] - 10s 364ms/step - loss: 1.2371 - accuracy: 0.5296 - precision: 0.7660 - recall: 0.4001 - F1Score: 0.4092 - val_loss: 1.3075 - val_accuracy: 0.5000 - val_precision: 0.7633 - val_recall: 0.3527 - val_F1Score: 0.3523\n",
            "Epoch 12/150\n",
            "28/28 [==============================] - 10s 362ms/step - loss: 1.2123 - accuracy: 0.5368 - precision: 0.7791 - recall: 0.4113 - F1Score: 0.4113 - val_loss: 1.2881 - val_accuracy: 0.4844 - val_precision: 0.7772 - val_recall: 0.3504 - val_F1Score: 0.3555\n",
            "Epoch 13/150\n",
            "28/28 [==============================] - 10s 370ms/step - loss: 1.1893 - accuracy: 0.5530 - precision: 0.7741 - recall: 0.4169 - F1Score: 0.4323 - val_loss: 1.3004 - val_accuracy: 0.5290 - val_precision: 0.8050 - val_recall: 0.3594 - val_F1Score: 0.4259\n",
            "Epoch 14/150\n",
            "28/28 [==============================] - 10s 363ms/step - loss: 1.1708 - accuracy: 0.5558 - precision: 0.7827 - recall: 0.4180 - F1Score: 0.4398 - val_loss: 1.3792 - val_accuracy: 0.4732 - val_precision: 0.6844 - val_recall: 0.3728 - val_F1Score: 0.3492\n",
            "Epoch 15/150\n",
            "28/28 [==============================] - 10s 362ms/step - loss: 1.1481 - accuracy: 0.5675 - precision: 0.7767 - recall: 0.4213 - F1Score: 0.4536 - val_loss: 1.2260 - val_accuracy: 0.5201 - val_precision: 0.7843 - val_recall: 0.3571 - val_F1Score: 0.3938\n",
            "Epoch 16/150\n",
            "28/28 [==============================] - 10s 363ms/step - loss: 1.1235 - accuracy: 0.5675 - precision: 0.7810 - recall: 0.4258 - F1Score: 0.4513 - val_loss: 1.2713 - val_accuracy: 0.5022 - val_precision: 0.7721 - val_recall: 0.3705 - val_F1Score: 0.4071\n",
            "Epoch 17/150\n",
            "28/28 [==============================] - 10s 361ms/step - loss: 1.1204 - accuracy: 0.5776 - precision: 0.7831 - recall: 0.4353 - F1Score: 0.4669 - val_loss: 1.2732 - val_accuracy: 0.5290 - val_precision: 0.7818 - val_recall: 0.3839 - val_F1Score: 0.3649\n",
            "Epoch 18/150\n",
            "28/28 [==============================] - 10s 361ms/step - loss: 1.0948 - accuracy: 0.5837 - precision: 0.7955 - recall: 0.4492 - F1Score: 0.4723 - val_loss: 1.2231 - val_accuracy: 0.5268 - val_precision: 0.7401 - val_recall: 0.3750 - val_F1Score: 0.3790\n",
            "Epoch 19/150\n",
            "28/28 [==============================] - 10s 363ms/step - loss: 1.0748 - accuracy: 0.5887 - precision: 0.8033 - recall: 0.4604 - F1Score: 0.4832 - val_loss: 1.1950 - val_accuracy: 0.5312 - val_precision: 0.7668 - val_recall: 0.3817 - val_F1Score: 0.3922\n",
            "Epoch 20/150\n",
            "28/28 [==============================] - 10s 362ms/step - loss: 1.0646 - accuracy: 0.5843 - precision: 0.8031 - recall: 0.4598 - F1Score: 0.4729 - val_loss: 1.1895 - val_accuracy: 0.5491 - val_precision: 0.7854 - val_recall: 0.3839 - val_F1Score: 0.4401\n",
            "Epoch 21/150\n",
            "28/28 [==============================] - 10s 363ms/step - loss: 1.0498 - accuracy: 0.6060 - precision: 0.7906 - recall: 0.4593 - F1Score: 0.5084 - val_loss: 1.1613 - val_accuracy: 0.5513 - val_precision: 0.8178 - val_recall: 0.3906 - val_F1Score: 0.4471\n",
            "Epoch 22/150\n",
            "28/28 [==============================] - 10s 364ms/step - loss: 1.0315 - accuracy: 0.5993 - precision: 0.7889 - recall: 0.4609 - F1Score: 0.5000 - val_loss: 1.1578 - val_accuracy: 0.5603 - val_precision: 0.7906 - val_recall: 0.4129 - val_F1Score: 0.4712\n",
            "Epoch 23/150\n",
            "28/28 [==============================] - 10s 362ms/step - loss: 1.0103 - accuracy: 0.6283 - precision: 0.8107 - recall: 0.4732 - F1Score: 0.5388 - val_loss: 1.1519 - val_accuracy: 0.5826 - val_precision: 0.7764 - val_recall: 0.4107 - val_F1Score: 0.4924\n",
            "Epoch 24/150\n",
            "28/28 [==============================] - 10s 362ms/step - loss: 1.0084 - accuracy: 0.6228 - precision: 0.8115 - recall: 0.4900 - F1Score: 0.5179 - val_loss: 1.1472 - val_accuracy: 0.5625 - val_precision: 0.8160 - val_recall: 0.3862 - val_F1Score: 0.4687\n",
            "Epoch 25/150\n",
            "28/28 [==============================] - 10s 362ms/step - loss: 0.9889 - accuracy: 0.6378 - precision: 0.7896 - recall: 0.4838 - F1Score: 0.5471 - val_loss: 1.1418 - val_accuracy: 0.5871 - val_precision: 0.7617 - val_recall: 0.4353 - val_F1Score: 0.4984\n",
            "Epoch 26/150\n",
            "28/28 [==============================] - 10s 363ms/step - loss: 0.9777 - accuracy: 0.6278 - precision: 0.7917 - recall: 0.4983 - F1Score: 0.5275 - val_loss: 1.1257 - val_accuracy: 0.5737 - val_precision: 0.7904 - val_recall: 0.4040 - val_F1Score: 0.4878\n",
            "Epoch 27/150\n",
            "28/28 [==============================] - 10s 361ms/step - loss: 0.9720 - accuracy: 0.6473 - precision: 0.8210 - recall: 0.5017 - F1Score: 0.5481 - val_loss: 1.1030 - val_accuracy: 0.5804 - val_precision: 0.7759 - val_recall: 0.4018 - val_F1Score: 0.4861\n",
            "Epoch 28/150\n",
            "28/28 [==============================] - 10s 362ms/step - loss: 0.9644 - accuracy: 0.6401 - precision: 0.8148 - recall: 0.5033 - F1Score: 0.5478 - val_loss: 1.1257 - val_accuracy: 0.5670 - val_precision: 0.7673 - val_recall: 0.4196 - val_F1Score: 0.4739\n",
            "Epoch 29/150\n",
            "28/28 [==============================] - 10s 361ms/step - loss: 0.9389 - accuracy: 0.6468 - precision: 0.8254 - recall: 0.5145 - F1Score: 0.5556 - val_loss: 1.1221 - val_accuracy: 0.5759 - val_precision: 0.7890 - val_recall: 0.4174 - val_F1Score: 0.4560\n",
            "Epoch 30/150\n",
            "28/28 [==============================] - 10s 362ms/step - loss: 0.9278 - accuracy: 0.6579 - precision: 0.8277 - recall: 0.5229 - F1Score: 0.5719 - val_loss: 1.2122 - val_accuracy: 0.5469 - val_precision: 0.7336 - val_recall: 0.4241 - val_F1Score: 0.4101\n",
            "Epoch 31/150\n",
            "28/28 [==============================] - 10s 364ms/step - loss: 0.9292 - accuracy: 0.6496 - precision: 0.7988 - recall: 0.5073 - F1Score: 0.5615 - val_loss: 1.1211 - val_accuracy: 0.5982 - val_precision: 0.7672 - val_recall: 0.4487 - val_F1Score: 0.5246\n",
            "Epoch 32/150\n",
            "28/28 [==============================] - 10s 363ms/step - loss: 0.9074 - accuracy: 0.6590 - precision: 0.8168 - recall: 0.5374 - F1Score: 0.5730 - val_loss: 1.1598 - val_accuracy: 0.5536 - val_precision: 0.7578 - val_recall: 0.4330 - val_F1Score: 0.4398\n",
            "Epoch 33/150\n",
            "28/28 [==============================] - 10s 363ms/step - loss: 0.9075 - accuracy: 0.6557 - precision: 0.8165 - recall: 0.5240 - F1Score: 0.5648 - val_loss: 1.0771 - val_accuracy: 0.5871 - val_precision: 0.7773 - val_recall: 0.4442 - val_F1Score: 0.4952\n",
            "Epoch 34/150\n",
            "28/28 [==============================] - 10s 363ms/step - loss: 0.8810 - accuracy: 0.6652 - precision: 0.8205 - recall: 0.5407 - F1Score: 0.5811 - val_loss: 1.0976 - val_accuracy: 0.5826 - val_precision: 0.7536 - val_recall: 0.4643 - val_F1Score: 0.4957\n",
            "Epoch 35/150\n",
            "28/28 [==============================] - 10s 363ms/step - loss: 0.8809 - accuracy: 0.6791 - precision: 0.8214 - recall: 0.5441 - F1Score: 0.5991 - val_loss: 1.1428 - val_accuracy: 0.5714 - val_precision: 0.7207 - val_recall: 0.4665 - val_F1Score: 0.4794\n",
            "Epoch 36/150\n",
            "28/28 [==============================] - 10s 363ms/step - loss: 0.8709 - accuracy: 0.6747 - precision: 0.8133 - recall: 0.5519 - F1Score: 0.5914 - val_loss: 1.0579 - val_accuracy: 0.5915 - val_precision: 0.7748 - val_recall: 0.4531 - val_F1Score: 0.5146\n",
            "Epoch 37/150\n",
            "28/28 [==============================] - 10s 363ms/step - loss: 0.8517 - accuracy: 0.6802 - precision: 0.8320 - recall: 0.5608 - F1Score: 0.5976 - val_loss: 1.0828 - val_accuracy: 0.5871 - val_precision: 0.7445 - val_recall: 0.4554 - val_F1Score: 0.4940\n",
            "Epoch 38/150\n",
            "28/28 [==============================] - 10s 362ms/step - loss: 0.8498 - accuracy: 0.6819 - precision: 0.8245 - recall: 0.5664 - F1Score: 0.5980 - val_loss: 1.1266 - val_accuracy: 0.5848 - val_precision: 0.7638 - val_recall: 0.4621 - val_F1Score: 0.4870\n",
            "Epoch 39/150\n",
            "28/28 [==============================] - 10s 363ms/step - loss: 0.8358 - accuracy: 0.6858 - precision: 0.8200 - recall: 0.5720 - F1Score: 0.6075 - val_loss: 1.0535 - val_accuracy: 0.6339 - val_precision: 0.7681 - val_recall: 0.4732 - val_F1Score: 0.5505\n",
            "Epoch 40/150\n",
            "28/28 [==============================] - 10s 362ms/step - loss: 0.8462 - accuracy: 0.6931 - precision: 0.8449 - recall: 0.5776 - F1Score: 0.6083 - val_loss: 1.0462 - val_accuracy: 0.6205 - val_precision: 0.7606 - val_recall: 0.4821 - val_F1Score: 0.5414\n",
            "Epoch 41/150\n",
            "28/28 [==============================] - 10s 362ms/step - loss: 0.8228 - accuracy: 0.6964 - precision: 0.8272 - recall: 0.5798 - F1Score: 0.6246 - val_loss: 1.0681 - val_accuracy: 0.5848 - val_precision: 0.7517 - val_recall: 0.4799 - val_F1Score: 0.4815\n",
            "Epoch 42/150\n",
            "28/28 [==============================] - 10s 364ms/step - loss: 0.8194 - accuracy: 0.6992 - precision: 0.8398 - recall: 0.5820 - F1Score: 0.6228 - val_loss: 1.0703 - val_accuracy: 0.5960 - val_precision: 0.7517 - val_recall: 0.4799 - val_F1Score: 0.5166\n",
            "Epoch 43/150\n",
            "28/28 [==============================] - 10s 364ms/step - loss: 0.8051 - accuracy: 0.7087 - precision: 0.8355 - recall: 0.5865 - F1Score: 0.6352 - val_loss: 1.0653 - val_accuracy: 0.5960 - val_precision: 0.7587 - val_recall: 0.4844 - val_F1Score: 0.5003\n",
            "Epoch 44/150\n",
            "28/28 [==============================] - 10s 364ms/step - loss: 0.7997 - accuracy: 0.6992 - precision: 0.8324 - recall: 0.5960 - F1Score: 0.6231 - val_loss: 1.0478 - val_accuracy: 0.5938 - val_precision: 0.8068 - val_recall: 0.4754 - val_F1Score: 0.5043\n",
            "Epoch 45/150\n",
            "28/28 [==============================] - 10s 364ms/step - loss: 0.7908 - accuracy: 0.7148 - precision: 0.8352 - recall: 0.5938 - F1Score: 0.6412 - val_loss: 1.0322 - val_accuracy: 0.6250 - val_precision: 0.7584 - val_recall: 0.5045 - val_F1Score: 0.5468\n",
            "Epoch 46/150\n",
            "28/28 [==============================] - 10s 364ms/step - loss: 0.7872 - accuracy: 0.7054 - precision: 0.8384 - recall: 0.6049 - F1Score: 0.6339 - val_loss: 1.0737 - val_accuracy: 0.5982 - val_precision: 0.7491 - val_recall: 0.4866 - val_F1Score: 0.5112\n",
            "Epoch 47/150\n",
            "28/28 [==============================] - 10s 363ms/step - loss: 0.7933 - accuracy: 0.7076 - precision: 0.8288 - recall: 0.5943 - F1Score: 0.6353 - val_loss: 1.0442 - val_accuracy: 0.6384 - val_precision: 0.7627 - val_recall: 0.5022 - val_F1Score: 0.5768\n",
            "Epoch 48/150\n",
            "28/28 [==============================] - 10s 365ms/step - loss: 0.7568 - accuracy: 0.7299 - precision: 0.8486 - recall: 0.6194 - F1Score: 0.6619 - val_loss: 1.0519 - val_accuracy: 0.6004 - val_precision: 0.7449 - val_recall: 0.4888 - val_F1Score: 0.5128\n",
            "Epoch 49/150\n",
            "28/28 [==============================] - 10s 368ms/step - loss: 0.7652 - accuracy: 0.7221 - precision: 0.8411 - recall: 0.6172 - F1Score: 0.6537 - val_loss: 1.0568 - val_accuracy: 0.6071 - val_precision: 0.7411 - val_recall: 0.5112 - val_F1Score: 0.5042\n",
            "Epoch 50/150\n",
            "28/28 [==============================] - 10s 363ms/step - loss: 0.7527 - accuracy: 0.7227 - precision: 0.8403 - recall: 0.6256 - F1Score: 0.6524 - val_loss: 1.0434 - val_accuracy: 0.5893 - val_precision: 0.7639 - val_recall: 0.4911 - val_F1Score: 0.5004\n",
            "Epoch 51/150\n",
            "28/28 [==============================] - 10s 363ms/step - loss: 0.7411 - accuracy: 0.7288 - precision: 0.8472 - recall: 0.6311 - F1Score: 0.6633 - val_loss: 1.1094 - val_accuracy: 0.5848 - val_precision: 0.7449 - val_recall: 0.4888 - val_F1Score: 0.5029\n",
            "Epoch 52/150\n",
            "28/28 [==============================] - 10s 364ms/step - loss: 0.7433 - accuracy: 0.7372 - precision: 0.8429 - recall: 0.6289 - F1Score: 0.6775 - val_loss: 1.0218 - val_accuracy: 0.6049 - val_precision: 0.7603 - val_recall: 0.4955 - val_F1Score: 0.5216\n",
            "Epoch 53/150\n",
            "28/28 [==============================] - 10s 364ms/step - loss: 0.7281 - accuracy: 0.7294 - precision: 0.8519 - recall: 0.6356 - F1Score: 0.6635 - val_loss: 1.0685 - val_accuracy: 0.5871 - val_precision: 0.7196 - val_recall: 0.4754 - val_F1Score: 0.5100\n",
            "Epoch 54/150\n",
            "28/28 [==============================] - 10s 366ms/step - loss: 0.7205 - accuracy: 0.7366 - precision: 0.8606 - recall: 0.6440 - F1Score: 0.6744 - val_loss: 1.0376 - val_accuracy: 0.6272 - val_precision: 0.7390 - val_recall: 0.5246 - val_F1Score: 0.5373\n",
            "Epoch 55/150\n",
            "28/28 [==============================] - 10s 366ms/step - loss: 0.7264 - accuracy: 0.7439 - precision: 0.8519 - recall: 0.6484 - F1Score: 0.6776 - val_loss: 1.0161 - val_accuracy: 0.6094 - val_precision: 0.7403 - val_recall: 0.5089 - val_F1Score: 0.5242\n",
            "Epoch 56/150\n",
            "28/28 [==============================] - 10s 364ms/step - loss: 0.7078 - accuracy: 0.7483 - precision: 0.8624 - recall: 0.6507 - F1Score: 0.6872 - val_loss: 1.0349 - val_accuracy: 0.6272 - val_precision: 0.7350 - val_recall: 0.5201 - val_F1Score: 0.5326\n",
            "Epoch 57/150\n",
            "28/28 [==============================] - 10s 364ms/step - loss: 0.7066 - accuracy: 0.7411 - precision: 0.8523 - recall: 0.6440 - F1Score: 0.6792 - val_loss: 1.1000 - val_accuracy: 0.5915 - val_precision: 0.7147 - val_recall: 0.5089 - val_F1Score: 0.5042\n",
            "Epoch 58/150\n",
            "28/28 [==============================] - 10s 362ms/step - loss: 0.6962 - accuracy: 0.7422 - precision: 0.8631 - recall: 0.6507 - F1Score: 0.6732 - val_loss: 1.0436 - val_accuracy: 0.6027 - val_precision: 0.7558 - val_recall: 0.5112 - val_F1Score: 0.4998\n",
            "Epoch 59/150\n",
            "28/28 [==============================] - 10s 367ms/step - loss: 0.6955 - accuracy: 0.7439 - precision: 0.8492 - recall: 0.6507 - F1Score: 0.6798 - val_loss: 1.0266 - val_accuracy: 0.6094 - val_precision: 0.7525 - val_recall: 0.5022 - val_F1Score: 0.5301\n",
            "Epoch 60/150\n",
            "28/28 [==============================] - 10s 365ms/step - loss: 0.6896 - accuracy: 0.7372 - precision: 0.8416 - recall: 0.6523 - F1Score: 0.6737 - val_loss: 1.0316 - val_accuracy: 0.5960 - val_precision: 0.7179 - val_recall: 0.5112 - val_F1Score: 0.4966\n",
            "Epoch 61/150\n",
            "28/28 [==============================] - 10s 366ms/step - loss: 0.6773 - accuracy: 0.7506 - precision: 0.8655 - recall: 0.6607 - F1Score: 0.6846 - val_loss: 1.0439 - val_accuracy: 0.5893 - val_precision: 0.7685 - val_recall: 0.5112 - val_F1Score: 0.4994\n",
            "Epoch 62/150\n",
            "28/28 [==============================] - 10s 362ms/step - loss: 0.6685 - accuracy: 0.7511 - precision: 0.8573 - recall: 0.6708 - F1Score: 0.6938 - val_loss: 1.0586 - val_accuracy: 0.6116 - val_precision: 0.7367 - val_recall: 0.5246 - val_F1Score: 0.5319\n",
            "Epoch 63/150\n",
            "28/28 [==============================] - 10s 362ms/step - loss: 0.6730 - accuracy: 0.7500 - precision: 0.8565 - recall: 0.6730 - F1Score: 0.6873 - val_loss: 1.0473 - val_accuracy: 0.5982 - val_precision: 0.7174 - val_recall: 0.5156 - val_F1Score: 0.4988\n",
            "Epoch 64/150\n",
            "28/28 [==============================] - 10s 365ms/step - loss: 0.6569 - accuracy: 0.7662 - precision: 0.8605 - recall: 0.6747 - F1Score: 0.7088 - val_loss: 1.0287 - val_accuracy: 0.6295 - val_precision: 0.7595 - val_recall: 0.5357 - val_F1Score: 0.5375\n",
            "Epoch 65/150\n",
            "28/28 [==============================] - 10s 364ms/step - loss: 0.6488 - accuracy: 0.7567 - precision: 0.8546 - recall: 0.6758 - F1Score: 0.6986 - val_loss: 1.0425 - val_accuracy: 0.6183 - val_precision: 0.7406 - val_recall: 0.5290 - val_F1Score: 0.5368\n",
            "Epoch 66/150\n",
            "28/28 [==============================] - 10s 364ms/step - loss: 0.6488 - accuracy: 0.7718 - precision: 0.8789 - recall: 0.6886 - F1Score: 0.7101 - val_loss: 1.0027 - val_accuracy: 0.6138 - val_precision: 0.7372 - val_recall: 0.5446 - val_F1Score: 0.5175\n",
            "Epoch 67/150\n",
            "28/28 [==============================] - 10s 365ms/step - loss: 0.6400 - accuracy: 0.7667 - precision: 0.8605 - recall: 0.6713 - F1Score: 0.7100 - val_loss: 1.0135 - val_accuracy: 0.6094 - val_precision: 0.7248 - val_recall: 0.5290 - val_F1Score: 0.5256\n",
            "Epoch 68/150\n",
            "28/28 [==============================] - 10s 363ms/step - loss: 0.6221 - accuracy: 0.7729 - precision: 0.8741 - recall: 0.6858 - F1Score: 0.7233 - val_loss: 1.0002 - val_accuracy: 0.6138 - val_precision: 0.7337 - val_recall: 0.5290 - val_F1Score: 0.5295\n",
            "Epoch 69/150\n",
            "28/28 [==============================] - 10s 362ms/step - loss: 0.6290 - accuracy: 0.7785 - precision: 0.8757 - recall: 0.6842 - F1Score: 0.7296 - val_loss: 1.0201 - val_accuracy: 0.5938 - val_precision: 0.7214 - val_recall: 0.5201 - val_F1Score: 0.5109\n",
            "Epoch 70/150\n",
            "28/28 [==============================] - 10s 361ms/step - loss: 0.6127 - accuracy: 0.7857 - precision: 0.8759 - recall: 0.6970 - F1Score: 0.7339 - val_loss: 1.0156 - val_accuracy: 0.6071 - val_precision: 0.7329 - val_recall: 0.5268 - val_F1Score: 0.5204\n",
            "Epoch 71/150\n",
            "28/28 [==============================] - 10s 363ms/step - loss: 0.6173 - accuracy: 0.7852 - precision: 0.8669 - recall: 0.6942 - F1Score: 0.7404 - val_loss: 0.9977 - val_accuracy: 0.6138 - val_precision: 0.7539 - val_recall: 0.5402 - val_F1Score: 0.5297\n",
            "Epoch 72/150\n",
            "28/28 [==============================] - 10s 363ms/step - loss: 0.5978 - accuracy: 0.7684 - precision: 0.8663 - recall: 0.7015 - F1Score: 0.7083 - val_loss: 1.0260 - val_accuracy: 0.6161 - val_precision: 0.7212 - val_recall: 0.5312 - val_F1Score: 0.5376\n",
            "Epoch 73/150\n",
            "28/28 [==============================] - 10s 364ms/step - loss: 0.6112 - accuracy: 0.7829 - precision: 0.8782 - recall: 0.7081 - F1Score: 0.7304 - val_loss: 1.0365 - val_accuracy: 0.6272 - val_precision: 0.7021 - val_recall: 0.5312 - val_F1Score: 0.5527\n",
            "Epoch 74/150\n",
            "28/28 [==============================] - 10s 362ms/step - loss: 0.5853 - accuracy: 0.7846 - precision: 0.8735 - recall: 0.7087 - F1Score: 0.7333 - val_loss: 1.0693 - val_accuracy: 0.6004 - val_precision: 0.7227 - val_recall: 0.5179 - val_F1Score: 0.5295\n",
            "Epoch 75/150\n",
            "28/28 [==============================] - 10s 363ms/step - loss: 0.5898 - accuracy: 0.7857 - precision: 0.8726 - recall: 0.7109 - F1Score: 0.7337 - val_loss: 1.0936 - val_accuracy: 0.5871 - val_precision: 0.6925 - val_recall: 0.4978 - val_F1Score: 0.4974\n",
            "Epoch 76/150\n",
            "28/28 [==============================] - 10s 361ms/step - loss: 0.5827 - accuracy: 0.7879 - precision: 0.8730 - recall: 0.7137 - F1Score: 0.7398 - val_loss: 1.0285 - val_accuracy: 0.6071 - val_precision: 0.7003 - val_recall: 0.5268 - val_F1Score: 0.5305\n",
            "Epoch 77/150\n",
            "28/28 [==============================] - 10s 362ms/step - loss: 0.5778 - accuracy: 0.7974 - precision: 0.8786 - recall: 0.7227 - F1Score: 0.7502 - val_loss: 1.0022 - val_accuracy: 0.6161 - val_precision: 0.7370 - val_recall: 0.5379 - val_F1Score: 0.5295\n",
            "Epoch 78/150\n",
            "28/28 [==============================] - 10s 362ms/step - loss: 0.5788 - accuracy: 0.7907 - precision: 0.8704 - recall: 0.7199 - F1Score: 0.7360 - val_loss: 1.0658 - val_accuracy: 0.6183 - val_precision: 0.7164 - val_recall: 0.5357 - val_F1Score: 0.5364\n",
            "Epoch 79/150\n",
            "28/28 [==============================] - 10s 366ms/step - loss: 0.5719 - accuracy: 0.7829 - precision: 0.8682 - recall: 0.7132 - F1Score: 0.7314 - val_loss: 1.0335 - val_accuracy: 0.6205 - val_precision: 0.7113 - val_recall: 0.5335 - val_F1Score: 0.5463\n",
            "Epoch 80/150\n",
            "28/28 [==============================] - 10s 364ms/step - loss: 0.5543 - accuracy: 0.7958 - precision: 0.8739 - recall: 0.7154 - F1Score: 0.7527 - val_loss: 1.0433 - val_accuracy: 0.6272 - val_precision: 0.7097 - val_recall: 0.5402 - val_F1Score: 0.5312\n",
            "Epoch 81/150\n",
            "28/28 [==============================] - 10s 366ms/step - loss: 0.5696 - accuracy: 0.7941 - precision: 0.8761 - recall: 0.7221 - F1Score: 0.7509 - val_loss: 1.0290 - val_accuracy: 0.6317 - val_precision: 0.7176 - val_recall: 0.5446 - val_F1Score: 0.5495\n",
            "Epoch 82/150\n",
            "28/28 [==============================] - 10s 365ms/step - loss: 0.5443 - accuracy: 0.8114 - precision: 0.8914 - recall: 0.7372 - F1Score: 0.7617 - val_loss: 1.0244 - val_accuracy: 0.6317 - val_precision: 0.7265 - val_recall: 0.5513 - val_F1Score: 0.5459\n",
            "Epoch 83/150\n",
            "28/28 [==============================] - 10s 365ms/step - loss: 0.5565 - accuracy: 0.8008 - precision: 0.8839 - recall: 0.7305 - F1Score: 0.7521 - val_loss: 0.9986 - val_accuracy: 0.6183 - val_precision: 0.7235 - val_recall: 0.5491 - val_F1Score: 0.5297\n",
            "Epoch 84/150\n",
            "28/28 [==============================] - 10s 367ms/step - loss: 0.5409 - accuracy: 0.8052 - precision: 0.8771 - recall: 0.7288 - F1Score: 0.7636 - val_loss: 1.0978 - val_accuracy: 0.5915 - val_precision: 0.6695 - val_recall: 0.5201 - val_F1Score: 0.4982\n",
            "Epoch 85/150\n",
            "28/28 [==============================] - 10s 366ms/step - loss: 0.5201 - accuracy: 0.8164 - precision: 0.8898 - recall: 0.7478 - F1Score: 0.7715 - val_loss: 1.0201 - val_accuracy: 0.6228 - val_precision: 0.7032 - val_recall: 0.5446 - val_F1Score: 0.5383\n",
            "Epoch 86/150\n",
            "28/28 [==============================] - 10s 361ms/step - loss: 0.5281 - accuracy: 0.8069 - precision: 0.8849 - recall: 0.7422 - F1Score: 0.7630 - val_loss: 1.0153 - val_accuracy: 0.6205 - val_precision: 0.7275 - val_recall: 0.5603 - val_F1Score: 0.5273\n",
            "Epoch 87/150\n",
            "28/28 [==============================] - 10s 363ms/step - loss: 0.5121 - accuracy: 0.8153 - precision: 0.8942 - recall: 0.7500 - F1Score: 0.7749 - val_loss: 1.0113 - val_accuracy: 0.6295 - val_precision: 0.7275 - val_recall: 0.5603 - val_F1Score: 0.5404\n",
            "Epoch 88/150\n",
            "28/28 [==============================] - 10s 362ms/step - loss: 0.5068 - accuracy: 0.8209 - precision: 0.8933 - recall: 0.7617 - F1Score: 0.7778 - val_loss: 1.0601 - val_accuracy: 0.6250 - val_precision: 0.7259 - val_recall: 0.5558 - val_F1Score: 0.5339\n",
            "Epoch 89/150\n",
            "28/28 [==============================] - 10s 363ms/step - loss: 0.4953 - accuracy: 0.8320 - precision: 0.8968 - recall: 0.7612 - F1Score: 0.7908 - val_loss: 1.0446 - val_accuracy: 0.6339 - val_precision: 0.7147 - val_recall: 0.5536 - val_F1Score: 0.5473\n",
            "Epoch 90/150\n",
            "28/28 [==============================] - 10s 364ms/step - loss: 0.5009 - accuracy: 0.8136 - precision: 0.8817 - recall: 0.7483 - F1Score: 0.7737 - val_loss: 1.0316 - val_accuracy: 0.6317 - val_precision: 0.7265 - val_recall: 0.5513 - val_F1Score: 0.5363\n",
            "Epoch 91/150\n",
            "28/28 [==============================] - 10s 365ms/step - loss: 0.4942 - accuracy: 0.8281 - precision: 0.8982 - recall: 0.7584 - F1Score: 0.7888 - val_loss: 1.0304 - val_accuracy: 0.6317 - val_precision: 0.7032 - val_recall: 0.5446 - val_F1Score: 0.5374\n",
            "Epoch 92/150\n",
            "28/28 [==============================] - 10s 364ms/step - loss: 0.4933 - accuracy: 0.8320 - precision: 0.8948 - recall: 0.7690 - F1Score: 0.7955 - val_loss: 1.0194 - val_accuracy: 0.6228 - val_precision: 0.7069 - val_recall: 0.5491 - val_F1Score: 0.5424\n",
            "Epoch 93/150\n",
            "28/28 [==============================] - 10s 364ms/step - loss: 0.4859 - accuracy: 0.8248 - precision: 0.8943 - recall: 0.7556 - F1Score: 0.7838 - val_loss: 1.0641 - val_accuracy: 0.6272 - val_precision: 0.7029 - val_recall: 0.5491 - val_F1Score: 0.5535\n",
            "Epoch 94/150\n",
            "28/28 [==============================] - 10s 365ms/step - loss: 0.4716 - accuracy: 0.8410 - precision: 0.8956 - recall: 0.7751 - F1Score: 0.8085 - val_loss: 1.0410 - val_accuracy: 0.6339 - val_precision: 0.7192 - val_recall: 0.5603 - val_F1Score: 0.5562\n",
            "Epoch 95/150\n",
            "28/28 [==============================] - 10s 363ms/step - loss: 0.4684 - accuracy: 0.8337 - precision: 0.9038 - recall: 0.7762 - F1Score: 0.7939 - val_loss: 1.0507 - val_accuracy: 0.6339 - val_precision: 0.7155 - val_recall: 0.5558 - val_F1Score: 0.5497\n",
            "Epoch 96/150\n",
            "28/28 [==============================] - 10s 365ms/step - loss: 0.4688 - accuracy: 0.8410 - precision: 0.9044 - recall: 0.7812 - F1Score: 0.7978 - val_loss: 1.1077 - val_accuracy: 0.6183 - val_precision: 0.6934 - val_recall: 0.5402 - val_F1Score: 0.5405\n",
            "Epoch 97/150\n",
            "28/28 [==============================] - 10s 367ms/step - loss: 0.4615 - accuracy: 0.8281 - precision: 0.8986 - recall: 0.7768 - F1Score: 0.7817 - val_loss: 1.0257 - val_accuracy: 0.6362 - val_precision: 0.7029 - val_recall: 0.5491 - val_F1Score: 0.5455\n",
            "Epoch 98/150\n",
            "28/28 [==============================] - 10s 362ms/step - loss: 0.4583 - accuracy: 0.8365 - precision: 0.8956 - recall: 0.7807 - F1Score: 0.7994 - val_loss: 1.0499 - val_accuracy: 0.6205 - val_precision: 0.6984 - val_recall: 0.5737 - val_F1Score: 0.5389\n",
            "Epoch 99/150\n",
            "28/28 [==============================] - 10s 363ms/step - loss: 0.4543 - accuracy: 0.8404 - precision: 0.9077 - recall: 0.7902 - F1Score: 0.7995 - val_loss: 1.0605 - val_accuracy: 0.6295 - val_precision: 0.7127 - val_recall: 0.5759 - val_F1Score: 0.5296\n",
            "Epoch 100/150\n",
            "28/28 [==============================] - 10s 364ms/step - loss: 0.4614 - accuracy: 0.8404 - precision: 0.9050 - recall: 0.7818 - F1Score: 0.8015 - val_loss: 1.1060 - val_accuracy: 0.6138 - val_precision: 0.7143 - val_recall: 0.5692 - val_F1Score: 0.5160\n",
            "Epoch 101/150\n",
            "28/28 [==============================] - 10s 366ms/step - loss: 0.4449 - accuracy: 0.8465 - precision: 0.9022 - recall: 0.7930 - F1Score: 0.8115 - val_loss: 1.0360 - val_accuracy: 0.6317 - val_precision: 0.6997 - val_recall: 0.5670 - val_F1Score: 0.5389\n",
            "Epoch 102/150\n",
            "28/28 [==============================] - 10s 363ms/step - loss: 0.4360 - accuracy: 0.8504 - precision: 0.9154 - recall: 0.7974 - F1Score: 0.8165 - val_loss: 1.0959 - val_accuracy: 0.6339 - val_precision: 0.7178 - val_recall: 0.5848 - val_F1Score: 0.5341\n",
            "Epoch 103/150\n",
            "28/28 [==============================] - 10s 366ms/step - loss: 0.4450 - accuracy: 0.8477 - precision: 0.9086 - recall: 0.7879 - F1Score: 0.8097 - val_loss: 1.0653 - val_accuracy: 0.6362 - val_precision: 0.7119 - val_recall: 0.5737 - val_F1Score: 0.5472\n",
            "Epoch 104/150\n",
            "28/28 [==============================] - 10s 362ms/step - loss: 0.4212 - accuracy: 0.8599 - precision: 0.9225 - recall: 0.8041 - F1Score: 0.8250 - val_loss: 1.0592 - val_accuracy: 0.6272 - val_precision: 0.6986 - val_recall: 0.5692 - val_F1Score: 0.5338\n",
            "Epoch 105/150\n",
            "28/28 [==============================] - 10s 365ms/step - loss: 0.4279 - accuracy: 0.8482 - precision: 0.9179 - recall: 0.7985 - F1Score: 0.8105 - val_loss: 1.1423 - val_accuracy: 0.6295 - val_precision: 0.6975 - val_recall: 0.5714 - val_F1Score: 0.5466\n",
            "Epoch 106/150\n",
            "28/28 [==============================] - 10s 363ms/step - loss: 0.4263 - accuracy: 0.8504 - precision: 0.9108 - recall: 0.8036 - F1Score: 0.8128 - val_loss: 1.0704 - val_accuracy: 0.6183 - val_precision: 0.7091 - val_recall: 0.5714 - val_F1Score: 0.5300\n",
            "Epoch 107/150\n",
            "28/28 [==============================] - 10s 362ms/step - loss: 0.4139 - accuracy: 0.8689 - precision: 0.9183 - recall: 0.8092 - F1Score: 0.8403 - val_loss: 1.0919 - val_accuracy: 0.6161 - val_precision: 0.6944 - val_recall: 0.5781 - val_F1Score: 0.5407\n",
            "Epoch 108/150\n",
            "28/28 [==============================] - 10s 364ms/step - loss: 0.4139 - accuracy: 0.8549 - precision: 0.9143 - recall: 0.8041 - F1Score: 0.8207 - val_loss: 1.1280 - val_accuracy: 0.6138 - val_precision: 0.6970 - val_recall: 0.5647 - val_F1Score: 0.5291\n",
            "Epoch 109/150\n",
            "28/28 [==============================] - 10s 365ms/step - loss: 0.4009 - accuracy: 0.8622 - precision: 0.9182 - recall: 0.8142 - F1Score: 0.8286 - val_loss: 1.0838 - val_accuracy: 0.6228 - val_precision: 0.6904 - val_recall: 0.5625 - val_F1Score: 0.5302\n",
            "Epoch 110/150\n",
            "28/28 [==============================] - 10s 364ms/step - loss: 0.4031 - accuracy: 0.8650 - precision: 0.9196 - recall: 0.8103 - F1Score: 0.8372 - val_loss: 1.0750 - val_accuracy: 0.6272 - val_precision: 0.7038 - val_recall: 0.5781 - val_F1Score: 0.5391\n",
            "Epoch 111/150\n",
            "28/28 [==============================] - 10s 364ms/step - loss: 0.4001 - accuracy: 0.8616 - precision: 0.9115 - recall: 0.8164 - F1Score: 0.8321 - val_loss: 1.0914 - val_accuracy: 0.6250 - val_precision: 0.6921 - val_recall: 0.5670 - val_F1Score: 0.5436\n",
            "Epoch 112/150\n",
            "28/28 [==============================] - 10s 364ms/step - loss: 0.3900 - accuracy: 0.8672 - precision: 0.9169 - recall: 0.8192 - F1Score: 0.8388 - val_loss: 1.0920 - val_accuracy: 0.6183 - val_precision: 0.6875 - val_recall: 0.5647 - val_F1Score: 0.5284\n",
            "Epoch 113/150\n",
            "28/28 [==============================] - 10s 362ms/step - loss: 0.3952 - accuracy: 0.8744 - precision: 0.9189 - recall: 0.8220 - F1Score: 0.8449 - val_loss: 1.1112 - val_accuracy: 0.6205 - val_precision: 0.6860 - val_recall: 0.5804 - val_F1Score: 0.5304\n",
            "Epoch 114/150\n",
            "28/28 [==============================] - 10s 363ms/step - loss: 0.3753 - accuracy: 0.8772 - precision: 0.9173 - recall: 0.8292 - F1Score: 0.8507 - val_loss: 1.1322 - val_accuracy: 0.6183 - val_precision: 0.6856 - val_recall: 0.5647 - val_F1Score: 0.5155\n",
            "Epoch 115/150\n",
            "28/28 [==============================] - 10s 366ms/step - loss: 0.3679 - accuracy: 0.8761 - precision: 0.9318 - recall: 0.8315 - F1Score: 0.8458 - val_loss: 1.1457 - val_accuracy: 0.6138 - val_precision: 0.6729 - val_recall: 0.5647 - val_F1Score: 0.5204\n",
            "Epoch 116/150\n",
            "28/28 [==============================] - 10s 365ms/step - loss: 0.3790 - accuracy: 0.8700 - precision: 0.9116 - recall: 0.8225 - F1Score: 0.8426 - val_loss: 1.1204 - val_accuracy: 0.6518 - val_precision: 0.7193 - val_recall: 0.5893 - val_F1Score: 0.5591\n",
            "Epoch 117/150\n",
            "28/28 [==============================] - 10s 364ms/step - loss: 0.3557 - accuracy: 0.8800 - precision: 0.9262 - recall: 0.8410 - F1Score: 0.8482 - val_loss: 1.0890 - val_accuracy: 0.6362 - val_precision: 0.7056 - val_recall: 0.5938 - val_F1Score: 0.5430\n",
            "Epoch 118/150\n",
            "28/28 [==============================] - 10s 364ms/step - loss: 0.3718 - accuracy: 0.8772 - precision: 0.9233 - recall: 0.8259 - F1Score: 0.8484 - val_loss: 1.0978 - val_accuracy: 0.6295 - val_precision: 0.6939 - val_recall: 0.5871 - val_F1Score: 0.5415\n",
            "Epoch 119/150\n",
            "28/28 [==============================] - 10s 364ms/step - loss: 0.3534 - accuracy: 0.8761 - precision: 0.9276 - recall: 0.8371 - F1Score: 0.8395 - val_loss: 1.1096 - val_accuracy: 0.6362 - val_precision: 0.6989 - val_recall: 0.5804 - val_F1Score: 0.5445\n",
            "Epoch 120/150\n",
            "28/28 [==============================] - 10s 365ms/step - loss: 0.3596 - accuracy: 0.8750 - precision: 0.9213 - recall: 0.8365 - F1Score: 0.8454 - val_loss: 1.1201 - val_accuracy: 0.6362 - val_precision: 0.7067 - val_recall: 0.5915 - val_F1Score: 0.5424\n",
            "Epoch 121/150\n",
            "28/28 [==============================] - 10s 366ms/step - loss: 0.3591 - accuracy: 0.8778 - precision: 0.9265 - recall: 0.8365 - F1Score: 0.8442 - val_loss: 1.0961 - val_accuracy: 0.6362 - val_precision: 0.6941 - val_recall: 0.5826 - val_F1Score: 0.5322\n",
            "Epoch 122/150\n",
            "28/28 [==============================] - 10s 363ms/step - loss: 0.3473 - accuracy: 0.8828 - precision: 0.9267 - recall: 0.8465 - F1Score: 0.8583 - val_loss: 1.1190 - val_accuracy: 0.6317 - val_precision: 0.7074 - val_recall: 0.5938 - val_F1Score: 0.5355\n",
            "Epoch 123/150\n",
            "28/28 [==============================] - 10s 362ms/step - loss: 0.3374 - accuracy: 0.8901 - precision: 0.9333 - recall: 0.8504 - F1Score: 0.8701 - val_loss: 1.1504 - val_accuracy: 0.6362 - val_precision: 0.7013 - val_recall: 0.5871 - val_F1Score: 0.5345\n",
            "Epoch 124/150\n",
            "28/28 [==============================] - 10s 364ms/step - loss: 0.3430 - accuracy: 0.8901 - precision: 0.9287 - recall: 0.8504 - F1Score: 0.8628 - val_loss: 1.1359 - val_accuracy: 0.6384 - val_precision: 0.6923 - val_recall: 0.5826 - val_F1Score: 0.5482\n",
            "Epoch 125/150\n",
            "28/28 [==============================] - 10s 364ms/step - loss: 0.3332 - accuracy: 0.8923 - precision: 0.9342 - recall: 0.8555 - F1Score: 0.8684 - val_loss: 1.1373 - val_accuracy: 0.6362 - val_precision: 0.7101 - val_recall: 0.5960 - val_F1Score: 0.5383\n",
            "Epoch 126/150\n",
            "28/28 [==============================] - 10s 363ms/step - loss: 0.3320 - accuracy: 0.8890 - precision: 0.9352 - recall: 0.8538 - F1Score: 0.8622 - val_loss: 1.1509 - val_accuracy: 0.6429 - val_precision: 0.7018 - val_recall: 0.5938 - val_F1Score: 0.5421\n",
            "Epoch 127/150\n",
            "28/28 [==============================] - 10s 365ms/step - loss: 0.3317 - accuracy: 0.8923 - precision: 0.9300 - recall: 0.8527 - F1Score: 0.8669 - val_loss: 1.1841 - val_accuracy: 0.6228 - val_precision: 0.6825 - val_recall: 0.5759 - val_F1Score: 0.5305\n",
            "Epoch 128/150\n",
            "28/28 [==============================] - 10s 362ms/step - loss: 0.3074 - accuracy: 0.9051 - precision: 0.9469 - recall: 0.8661 - F1Score: 0.8784 - val_loss: 1.1341 - val_accuracy: 0.6317 - val_precision: 0.6875 - val_recall: 0.5893 - val_F1Score: 0.5437\n",
            "Epoch 129/150\n",
            "28/28 [==============================] - 10s 365ms/step - loss: 0.3258 - accuracy: 0.8956 - precision: 0.9349 - recall: 0.8571 - F1Score: 0.8668 - val_loss: 1.1575 - val_accuracy: 0.6272 - val_precision: 0.6779 - val_recall: 0.5826 - val_F1Score: 0.5338\n",
            "Epoch 130/150\n",
            "28/28 [==============================] - 10s 363ms/step - loss: 0.3093 - accuracy: 0.9035 - precision: 0.9421 - recall: 0.8627 - F1Score: 0.8787 - val_loss: 1.1325 - val_accuracy: 0.6429 - val_precision: 0.6881 - val_recall: 0.5960 - val_F1Score: 0.5513\n",
            "Epoch 131/150\n",
            "28/28 [==============================] - 10s 365ms/step - loss: 0.3129 - accuracy: 0.8956 - precision: 0.9343 - recall: 0.8571 - F1Score: 0.8690 - val_loss: 1.2190 - val_accuracy: 0.6071 - val_precision: 0.6517 - val_recall: 0.5513 - val_F1Score: 0.5328\n",
            "Epoch 132/150\n",
            "28/28 [==============================] - 10s 365ms/step - loss: 0.3004 - accuracy: 0.9046 - precision: 0.9395 - recall: 0.8666 - F1Score: 0.8772 - val_loss: 1.1668 - val_accuracy: 0.6250 - val_precision: 0.6913 - val_recall: 0.6049 - val_F1Score: 0.5314\n",
            "Epoch 133/150\n",
            "28/28 [==============================] - 10s 366ms/step - loss: 0.2977 - accuracy: 0.9074 - precision: 0.9398 - recall: 0.8705 - F1Score: 0.8819 - val_loss: 1.1831 - val_accuracy: 0.6295 - val_precision: 0.6939 - val_recall: 0.5871 - val_F1Score: 0.5249\n",
            "Epoch 134/150\n",
            "28/28 [==============================] - 10s 364ms/step - loss: 0.2928 - accuracy: 0.9113 - precision: 0.9388 - recall: 0.8728 - F1Score: 0.8907 - val_loss: 1.1800 - val_accuracy: 0.6384 - val_precision: 0.6982 - val_recall: 0.5938 - val_F1Score: 0.5435\n",
            "Epoch 135/150\n",
            "28/28 [==============================] - 10s 364ms/step - loss: 0.2928 - accuracy: 0.8951 - precision: 0.9361 - recall: 0.8672 - F1Score: 0.8725 - val_loss: 1.1858 - val_accuracy: 0.6295 - val_precision: 0.6859 - val_recall: 0.5848 - val_F1Score: 0.5377\n",
            "Epoch 136/150\n",
            "28/28 [==============================] - 10s 363ms/step - loss: 0.2914 - accuracy: 0.9029 - precision: 0.9452 - recall: 0.8756 - F1Score: 0.8811 - val_loss: 1.1721 - val_accuracy: 0.6362 - val_precision: 0.6961 - val_recall: 0.5982 - val_F1Score: 0.5469\n",
            "Epoch 137/150\n",
            "28/28 [==============================] - 10s 364ms/step - loss: 0.2793 - accuracy: 0.9062 - precision: 0.9448 - recall: 0.8795 - F1Score: 0.8854 - val_loss: 1.1859 - val_accuracy: 0.6384 - val_precision: 0.7018 - val_recall: 0.6094 - val_F1Score: 0.5538\n",
            "Epoch 138/150\n",
            "28/28 [==============================] - 10s 363ms/step - loss: 0.2819 - accuracy: 0.9085 - precision: 0.9458 - recall: 0.8772 - F1Score: 0.8863 - val_loss: 1.1698 - val_accuracy: 0.6406 - val_precision: 0.6967 - val_recall: 0.6049 - val_F1Score: 0.5524\n",
            "Epoch 139/150\n",
            "28/28 [==============================] - 10s 366ms/step - loss: 0.2719 - accuracy: 0.9146 - precision: 0.9471 - recall: 0.8800 - F1Score: 0.8876 - val_loss: 1.2243 - val_accuracy: 0.6228 - val_precision: 0.6633 - val_recall: 0.5804 - val_F1Score: 0.5338\n",
            "Epoch 140/150\n",
            "28/28 [==============================] - 10s 365ms/step - loss: 0.2770 - accuracy: 0.9146 - precision: 0.9470 - recall: 0.8873 - F1Score: 0.8916 - val_loss: 1.2167 - val_accuracy: 0.6384 - val_precision: 0.6992 - val_recall: 0.5915 - val_F1Score: 0.5456\n",
            "Epoch 141/150\n",
            "28/28 [==============================] - 10s 366ms/step - loss: 0.2830 - accuracy: 0.9107 - precision: 0.9478 - recall: 0.8823 - F1Score: 0.8851 - val_loss: 1.2250 - val_accuracy: 0.6071 - val_precision: 0.6667 - val_recall: 0.5714 - val_F1Score: 0.5174\n",
            "Epoch 142/150\n",
            "28/28 [==============================] - 10s 367ms/step - loss: 0.2597 - accuracy: 0.9146 - precision: 0.9492 - recall: 0.8862 - F1Score: 0.8873 - val_loss: 1.2314 - val_accuracy: 0.6362 - val_precision: 0.6802 - val_recall: 0.5982 - val_F1Score: 0.5467\n",
            "Epoch 143/150\n",
            "28/28 [==============================] - 10s 366ms/step - loss: 0.2620 - accuracy: 0.9202 - precision: 0.9518 - recall: 0.8917 - F1Score: 0.8997 - val_loss: 1.2173 - val_accuracy: 0.6496 - val_precision: 0.6972 - val_recall: 0.6116 - val_F1Score: 0.5515\n",
            "Epoch 144/150\n",
            "28/28 [==============================] - 10s 366ms/step - loss: 0.2431 - accuracy: 0.9286 - precision: 0.9550 - recall: 0.9001 - F1Score: 0.9138 - val_loss: 1.2399 - val_accuracy: 0.6585 - val_precision: 0.6894 - val_recall: 0.6094 - val_F1Score: 0.5536\n",
            "Epoch 145/150\n",
            "28/28 [==============================] - 10s 370ms/step - loss: 0.2675 - accuracy: 0.9129 - precision: 0.9429 - recall: 0.8839 - F1Score: 0.8887 - val_loss: 1.2099 - val_accuracy: 0.6540 - val_precision: 0.7013 - val_recall: 0.6183 - val_F1Score: 0.5503\n",
            "Epoch 146/150\n",
            "28/28 [==============================] - 10s 368ms/step - loss: 0.2358 - accuracy: 0.9297 - precision: 0.9529 - recall: 0.9040 - F1Score: 0.9108 - val_loss: 1.2340 - val_accuracy: 0.6429 - val_precision: 0.6939 - val_recall: 0.6071 - val_F1Score: 0.5437\n",
            "Epoch 147/150\n",
            "28/28 [==============================] - 10s 366ms/step - loss: 0.2405 - accuracy: 0.9319 - precision: 0.9582 - recall: 0.9074 - F1Score: 0.9172 - val_loss: 1.2680 - val_accuracy: 0.6518 - val_precision: 0.6825 - val_recall: 0.6094 - val_F1Score: 0.5435\n",
            "Epoch 148/150\n",
            "28/28 [==============================] - 10s 366ms/step - loss: 0.2373 - accuracy: 0.9280 - precision: 0.9583 - recall: 0.8984 - F1Score: 0.9146 - val_loss: 1.2398 - val_accuracy: 0.6540 - val_precision: 0.6915 - val_recall: 0.6205 - val_F1Score: 0.5626\n",
            "Epoch 149/150\n",
            "28/28 [==============================] - 10s 364ms/step - loss: 0.2438 - accuracy: 0.9252 - precision: 0.9560 - recall: 0.8962 - F1Score: 0.9054 - val_loss: 1.2690 - val_accuracy: 0.6272 - val_precision: 0.6658 - val_recall: 0.5915 - val_F1Score: 0.5246\n",
            "Epoch 150/150\n",
            "28/28 [==============================] - 10s 365ms/step - loss: 0.2227 - accuracy: 0.9386 - precision: 0.9646 - recall: 0.9135 - F1Score: 0.9222 - val_loss: 1.2541 - val_accuracy: 0.6429 - val_precision: 0.6877 - val_recall: 0.6094 - val_F1Score: 0.5452\n"
          ]
        }
      ]
    },
    {
      "cell_type": "code",
      "metadata": {
        "id": "2rcQJYmWbHIo",
        "colab": {
          "base_uri": "https://localhost:8080/",
          "height": 573
        },
        "outputId": "d12283d1-e77b-426a-e8b7-6f182c194a95"
      },
      "source": [
        "plt.plot(cnnhistory.history['loss'])\n",
        "plt.plot(cnnhistory.history['val_loss'])  \n",
        "plt.title('model loss')\n",
        "plt.ylabel('loss')\n",
        "plt.xlabel('epoch')\n",
        "plt.legend(['train', 'test'], loc='upper left')\n",
        "plt.show()\n",
        "\n",
        "plt.plot(cnnhistory.history['accuracy'])\n",
        "plt.plot(cnnhistory.history['val_accuracy'])\n",
        "plt.title('model accuracy')\n",
        "plt.ylabel('accuracy')\n",
        "plt.xlabel('epoch')\n",
        "plt.legend(['train', 'test'], loc='upper left')\n",
        "plt.show()"
      ],
      "execution_count": null,
      "outputs": [
        {
          "output_type": "display_data",
          "data": {
            "image/png": "[encoded data removed]",
            "text/plain": [
              "<Figure size 432x288 with 1 Axes>"
            ]
          },
          "metadata": {
            "needs_background": "light"
          }
        },
        {
          "output_type": "display_data",
          "data": {
            "image/png": "[encoded data removed]",
            "text/plain": [
              "<Figure size 432x288 with 1 Axes>"
            ]
          },
          "metadata": {
            "needs_background": "light"
          }
        }
      ]
    },
    {
      "cell_type": "markdown",
      "metadata": {
        "id": "XouYutpPbLPX"
      },
      "source": [
        "## **Saving the model**"
      ]
    },
    {
      "cell_type": "code",
      "source": [
        "import os\n",
        "model_name = 'model corrected.h5'\n",
        "save_dir = '/content/drive/MyDrive/speech emotion recognition/saved_models/'\n",
        "# Save model and weights\n",
        "if not os.path.isdir(save_dir):\n",
        "    os.makedirs(save_dir)\n",
        "    \n",
        "model_path = os.path.join(save_dir, model_name)\n",
        "model.save(model_path)\n",
        "print('Saved trained model at %s ' % model_path)"
      ],
      "metadata": {
        "colab": {
          "base_uri": "https://localhost:8080/"
        },
        "id": "QPa5J3TLxzws",
        "outputId": "dbf12940-b00b-49e3-ec0f-440666dbb75a"
      },
      "execution_count": null,
      "outputs": [
        {
          "output_type": "stream",
          "name": "stdout",
          "text": [
            "Saved trained model at /content/drive/MyDrive/speech emotion recognition/saved_models/model corrected.h5 \n"
          ]
        }
      ]
    },
    {
      "cell_type": "code",
      "source": [
        "import json\n",
        "model_json = model.to_json()\n",
        "with open(save_dir + \"model corrected.json\", \"w\") as json_file:\n",
        "    json_file.write(model_json)"
      ],
      "metadata": {
        "id": "f1edrBgOx1ly"
      },
      "execution_count": null,
      "outputs": []
    },
    {
      "cell_type": "markdown",
      "metadata": {
        "id": "dAxD1JO6bd2m"
      },
      "source": [
        "## **Loading the model**"
      ]
    },
    {
      "cell_type": "code",
      "source": [
        "# loading json and creating model\n",
        "from keras.models import model_from_json\n",
        "save_dir = '/content/drive/MyDrive/speech emotion recognition/saved_models/'\n",
        "json_file = open(save_dir + 'model corrected.json', 'r')\n",
        "loaded_model_json = json_file.read()\n",
        "json_file.close()\n",
        "loaded_model = model_from_json(loaded_model_json)\n",
        "# load weights into new model\n",
        "loaded_model.load_weights(save_dir + 'model corrected.h5')\n",
        "print(\"Loaded model from disk\")\n",
        " \n",
        "# evaluate loaded model on test data\n",
        "loaded_model.compile(loss='categorical_crossentropy',\n",
        "                    optimizer=opt,\n",
        "                    metrics=['accuracy',\n",
        "                              Precision(name='precision'),\n",
        "                              Recall(name='recall'),\n",
        "                              F1Score(num_classes=10, name='F1Score')])\n",
        "\n",
        "score = loaded_model.evaluate(x_testcnn, y_test, verbose=0)\n",
        "print(\"%s: %.2f%%\" % (loaded_model.metrics_names[1], score[1]*100))\n",
        "print(\"%s: %.2f%%\" % (loaded_model.metrics_names[2], score[2]*100))\n",
        "print(\"%s: %.2f%%\" % (loaded_model.metrics_names[3], score[3]*100)) "
      ],
      "metadata": {
        "colab": {
          "base_uri": "https://localhost:8080/"
        },
        "id": "OD3XU3Yjx3nI",
        "outputId": "ecac1f1b-d7c4-40dc-d1fc-8439618a0e75"
      },
      "execution_count": null,
      "outputs": [
        {
          "output_type": "stream",
          "name": "stdout",
          "text": [
            "Loaded model from disk\n",
            "accuracy: 66.96%\n",
            "precision: 70.70%\n",
            "recall: 64.64%\n"
          ]
        }
      ]
    },
    {
      "cell_type": "code",
      "metadata": {
        "id": "PMmLOnx_TmOf",
        "colab": {
          "base_uri": "https://localhost:8080/"
        },
        "outputId": "5949427a-bf38-4031-9350-6c8553031215"
      },
      "source": [
        "score[4]*100"
      ],
      "execution_count": null,
      "outputs": [
        {
          "output_type": "execute_result",
          "data": {
            "text/plain": [
              "array([73.77049 , 64.864876, 66.666664, 76.68394 , 85.333336, 46.80851 ,\n",
              "       45.454548, 14.634146, 31.25    , 32.65306 ], dtype=float32)"
            ]
          },
          "metadata": {},
          "execution_count": 275
        }
      ]
    },
    {
      "cell_type": "code",
      "metadata": {
        "id": "zNr73Xmsbiqf",
        "colab": {
          "base_uri": "https://localhost:8080/"
        },
        "outputId": "1089b7b5-9a88-4a17-b6a3-f041c53b0d36"
      },
      "source": [
        "preds = loaded_model.predict(x_testcnn, \n",
        "                         batch_size=32, \n",
        "                         verbose=2)                      "
      ],
      "execution_count": null,
      "outputs": [
        {
          "output_type": "stream",
          "name": "stdout",
          "text": [
            "18/18 - 1s - 758ms/epoch - 42ms/step\n"
          ]
        }
      ]
    },
    {
      "cell_type": "code",
      "metadata": {
        "id": "2N5M_Y3qQgQ4",
        "colab": {
          "base_uri": "https://localhost:8080/"
        },
        "outputId": "dd9d70d5-d97f-4a99-f5a3-09138574ebe9"
      },
      "source": [
        "from sklearn.metrics import classification_report, confusion_matrix\n",
        "\n",
        "y_pred = model.predict(x_testcnn, batch_size=32, verbose=0)\n",
        "\n",
        "y_pred_bool = np.argmax(y_pred, axis=1)\n",
        "y_test_bool = np.argmax(y_test, axis=1)\n",
        "\n",
        "cm = confusion_matrix(y_test_bool, y_pred_bool)\n",
        "print(cm)"
      ],
      "execution_count": null,
      "outputs": [
        {
          "output_type": "stream",
          "name": "stdout",
          "text": [
            "[[90  0 12  7  7  2  0  1  2  2]\n",
            " [ 1 12  3  3  1  0  1  0  0  0]\n",
            " [18  0 66 12  3  0  0  0  1  1]\n",
            " [ 4  0  7 74  1  1  0  0  0  0]\n",
            " [ 5  3  2  7 96  0  0  0  1  1]\n",
            " [ 1  0  1  1  1 11  0  1  5  2]\n",
            " [ 0  0  0  0  0  0  5  2  1  7]\n",
            " [ 0  1  2  1  0  2  0  3 12  4]\n",
            " [ 2  0  3  1  1  6  0  3 10  3]\n",
            " [ 0  0  1  0  0  2  1  6  3  8]]\n"
          ]
        }
      ]
    },
    {
      "cell_type": "code",
      "metadata": {
        "id": "5cnUJsnBZdKO",
        "colab": {
          "base_uri": "https://localhost:8080/"
        },
        "outputId": "8f8e1dc4-69af-4a49-c71f-8851411e2f65"
      },
      "source": [
        "cr = classification_report(y_test_bool, y_pred_bool)\n",
        "print(cr)"
      ],
      "execution_count": null,
      "outputs": [
        {
          "output_type": "stream",
          "name": "stdout",
          "text": [
            "              precision    recall  f1-score   support\n",
            "\n",
            "           0       0.74      0.73      0.74       123\n",
            "           1       0.75      0.57      0.65        21\n",
            "           2       0.68      0.65      0.67       101\n",
            "           3       0.70      0.85      0.77        87\n",
            "           4       0.87      0.83      0.85       115\n",
            "           5       0.46      0.48      0.47        23\n",
            "           6       0.71      0.33      0.45        15\n",
            "           7       0.19      0.12      0.15        25\n",
            "           8       0.29      0.34      0.31        29\n",
            "           9       0.29      0.38      0.33        21\n",
            "\n",
            "    accuracy                           0.67       560\n",
            "   macro avg       0.57      0.53      0.54       560\n",
            "weighted avg       0.67      0.67      0.67       560\n",
            "\n"
          ]
        }
      ]
    },
    {
      "cell_type": "code",
      "source": [
        "preds"
      ],
      "metadata": {
        "colab": {
          "base_uri": "https://localhost:8080/"
        },
        "id": "_lslBKZ--2iv",
        "outputId": "024d0d4b-ac51-4931-f791-1db34fd067e5"
      },
      "execution_count": null,
      "outputs": [
        {
          "output_type": "execute_result",
          "data": {
            "text/plain": [
              "array([[3.0613161e-04, 5.6355136e-29, 3.5059824e-15, ..., 8.4189407e-05,\n",
              "        1.2213197e-04, 9.7127622e-07],\n",
              "       [2.1391572e-02, 1.3563569e-19, 9.7841120e-01, ..., 7.0498453e-07,\n",
              "        2.1089516e-05, 4.4743385e-07],\n",
              "       [1.1649391e-02, 1.5205955e-15, 9.4136981e-13, ..., 1.2104510e-03,\n",
              "        5.6967645e-05, 1.4045845e-02],\n",
              "       ...,\n",
              "       [7.6320715e-04, 1.5292284e-06, 6.1237872e-01, ..., 7.1761094e-02,\n",
              "        2.9317763e-02, 1.1698218e-03],\n",
              "       [9.9462408e-01, 1.9916168e-20, 6.4291007e-06, ..., 1.8790805e-06,\n",
              "        2.2428739e-04, 6.2695869e-07],\n",
              "       [1.9721063e-03, 7.7213514e-01, 7.8183867e-02, ..., 5.3488108e-04,\n",
              "        9.3002309e-04, 1.8302871e-02]], dtype=float32)"
            ]
          },
          "metadata": {},
          "execution_count": 352
        }
      ]
    },
    {
      "cell_type": "code",
      "metadata": {
        "id": "z1QB4PvgbnHa"
      },
      "source": [
        "preds1=preds.argmax(axis=1)"
      ],
      "execution_count": null,
      "outputs": []
    },
    {
      "cell_type": "code",
      "metadata": {
        "id": "bevjIkDLbr3k"
      },
      "source": [
        "abc = preds1.astype(int).flatten()"
      ],
      "execution_count": null,
      "outputs": []
    },
    {
      "cell_type": "code",
      "metadata": {
        "id": "e6M_7xUebtC8"
      },
      "source": [
        "predictions = (lb.inverse_transform((abc)))"
      ],
      "execution_count": null,
      "outputs": []
    },
    {
      "cell_type": "code",
      "metadata": {
        "id": "5LC_QyipbuZN"
      },
      "source": [
        "preddf = pd.DataFrame({'predictedvalues': predictions})"
      ],
      "execution_count": null,
      "outputs": []
    },
    {
      "cell_type": "code",
      "metadata": {
        "id": "KoogzlWzbv0-"
      },
      "source": [
        "actual=y_test.argmax(axis=1)\n",
        "abc123 = actual.astype(int).flatten()\n",
        "actualvalues = (lb.inverse_transform((abc123)))\n",
        "actualdf = pd.DataFrame({'actualvalues': actualvalues})\n",
        "\n",
        "finaldf = actualdf.join(preddf)"
      ],
      "execution_count": null,
      "outputs": []
    },
    {
      "cell_type": "code",
      "metadata": {
        "id": "u9PtO379bz8W",
        "colab": {
          "base_uri": "https://localhost:8080/",
          "height": 363
        },
        "outputId": "5d3f0033-e5f4-40db-bb73-0cd7261d91a2"
      },
      "source": [
        "finaldf[:10]"
      ],
      "execution_count": null,
      "outputs": [
        {
          "output_type": "execute_result",
          "data": {
            "text/html": [
              "<div>\n",
              "<style scoped>\n",
              "    .dataframe tbody tr th:only-of-type {\n",
              "        vertical-align: middle;\n",
              "    }\n",
              "\n",
              "    .dataframe tbody tr th {\n",
              "        vertical-align: top;\n",
              "    }\n",
              "\n",
              "    .dataframe thead th {\n",
              "        text-align: right;\n",
              "    }\n",
              "</style>\n",
              "<table border=\"1\" class=\"dataframe\">\n",
              "  <thead>\n",
              "    <tr style=\"text-align: right;\">\n",
              "      <th></th>\n",
              "      <th>actualvalues</th>\n",
              "      <th>predictedvalues</th>\n",
              "    </tr>\n",
              "  </thead>\n",
              "  <tbody>\n",
              "    <tr>\n",
              "      <th>0</th>\n",
              "      <td>female_sad</td>\n",
              "      <td>female_sad</td>\n",
              "    </tr>\n",
              "    <tr>\n",
              "      <th>1</th>\n",
              "      <td>female_fearful</td>\n",
              "      <td>female_fearful</td>\n",
              "    </tr>\n",
              "    <tr>\n",
              "      <th>2</th>\n",
              "      <td>female_sad</td>\n",
              "      <td>female_sad</td>\n",
              "    </tr>\n",
              "    <tr>\n",
              "      <th>3</th>\n",
              "      <td>female_angry</td>\n",
              "      <td>female_angry</td>\n",
              "    </tr>\n",
              "    <tr>\n",
              "      <th>4</th>\n",
              "      <td>female_angry</td>\n",
              "      <td>female_angry</td>\n",
              "    </tr>\n",
              "    <tr>\n",
              "      <th>5</th>\n",
              "      <td>female_fearful</td>\n",
              "      <td>female_fearful</td>\n",
              "    </tr>\n",
              "    <tr>\n",
              "      <th>6</th>\n",
              "      <td>female_angry</td>\n",
              "      <td>female_angry</td>\n",
              "    </tr>\n",
              "    <tr>\n",
              "      <th>7</th>\n",
              "      <td>male_fearful</td>\n",
              "      <td>male_happy</td>\n",
              "    </tr>\n",
              "    <tr>\n",
              "      <th>8</th>\n",
              "      <td>female_happy</td>\n",
              "      <td>female_happy</td>\n",
              "    </tr>\n",
              "    <tr>\n",
              "      <th>9</th>\n",
              "      <td>female_sad</td>\n",
              "      <td>female_sad</td>\n",
              "    </tr>\n",
              "  </tbody>\n",
              "</table>\n",
              "</div>"
            ],
            "text/plain": [
              "     actualvalues predictedvalues\n",
              "0      female_sad      female_sad\n",
              "1  female_fearful  female_fearful\n",
              "2      female_sad      female_sad\n",
              "3    female_angry    female_angry\n",
              "4    female_angry    female_angry\n",
              "5  female_fearful  female_fearful\n",
              "6    female_angry    female_angry\n",
              "7    male_fearful      male_happy\n",
              "8    female_happy    female_happy\n",
              "9      female_sad      female_sad"
            ]
          },
          "metadata": {},
          "execution_count": 356
        }
      ]
    },
    {
      "cell_type": "code",
      "metadata": {
        "id": "0syWNoThb4kr"
      },
      "source": [
        "finaldf.to_csv(save_dir + '/Predictions.csv', index=False)"
      ],
      "execution_count": null,
      "outputs": []
    },
    {
      "cell_type": "markdown",
      "metadata": {
        "id": "NQQHSEK6b7OC"
      },
      "source": [
        "## **Live Demo**"
      ]
    },
    {
      "cell_type": "code",
      "metadata": {
        "id": "NlrSSIp7b_Xn"
      },
      "source": [
        "data, sampling_rate = librosa.load('/content/drive/MyDrive/speech emotion recognition/Recorded Audios/recording2.wav')"
      ],
      "execution_count": null,
      "outputs": []
    },
    {
      "cell_type": "code",
      "metadata": {
        "id": "8hTpBdBFcCX_",
        "colab": {
          "base_uri": "https://localhost:8080/",
          "height": 369
        },
        "outputId": "4c6ec3ea-1189-4e03-b286-8926d4975149"
      },
      "source": [
        "% pylab inline\n",
        "import os\n",
        "import pandas as pd\n",
        "import librosa\n",
        "import glob \n",
        "\n",
        "plt.figure(figsize=(15, 5))\n",
        "librosa.display.waveplot(data, sr=sampling_rate)"
      ],
      "execution_count": null,
      "outputs": [
        {
          "output_type": "stream",
          "name": "stdout",
          "text": [
            "Populating the interactive namespace from numpy and matplotlib\n"
          ]
        },
        {
          "output_type": "execute_result",
          "data": {
            "text/plain": [
              "<matplotlib.collections.PolyCollection at 0x7f5ab7658e10>"
            ]
          },
          "metadata": {},
          "execution_count": 327
        },
        {
          "output_type": "display_data",
          "data": {
            "image/png": "[encoded data removed]",
            "text/plain": [
              "<Figure size 1080x360 with 1 Axes>"
            ]
          },
          "metadata": {
            "needs_background": "light"
          }
        }
      ]
    },
    {
      "cell_type": "code",
      "metadata": {
        "id": "fwkkFnGzcENy"
      },
      "source": [
        "#livedf= pd.DataFrame(columns=['feature'])\n",
        "X, sample_rate = librosa.load('/content/drive/MyDrive/speech emotion recognition/Recorded Audios/recording3.wav', res_type='kaiser_fast',duration=2.5,sr=22050*2,offset=0.5)\n",
        "sample_rate = np.array(sample_rate)\n",
        "mfccs = np.mean(librosa.feature.mfcc(y=X, sr=sample_rate, n_mfcc=13),axis=0)\n",
        "featurelive = mfccs\n",
        "livedf2 = featurelive"
      ],
      "execution_count": null,
      "outputs": []
    },
    {
      "cell_type": "code",
      "metadata": {
        "id": "Mn35hb-kcFi7"
      },
      "source": [
        "livedf2= pd.DataFrame(data=livedf2)"
      ],
      "execution_count": null,
      "outputs": []
    },
    {
      "cell_type": "code",
      "metadata": {
        "id": "jfUJ4gLFcG64"
      },
      "source": [
        "livedf2 = livedf2.stack().to_frame().T"
      ],
      "execution_count": null,
      "outputs": []
    },
    {
      "cell_type": "code",
      "metadata": {
        "id": "xbp6l6_3cIWR",
        "colab": {
          "base_uri": "https://localhost:8080/",
          "height": 161
        },
        "outputId": "806946c3-e604-45fc-aaa7-15dfec259e2d"
      },
      "source": [
        "livedf2"
      ],
      "execution_count": null,
      "outputs": [
        {
          "output_type": "execute_result",
          "data": {
            "text/html": [
              "<div>\n",
              "<style scoped>\n",
              "    .dataframe tbody tr th:only-of-type {\n",
              "        vertical-align: middle;\n",
              "    }\n",
              "\n",
              "    .dataframe tbody tr th {\n",
              "        vertical-align: top;\n",
              "    }\n",
              "\n",
              "    .dataframe thead tr th {\n",
              "        text-align: left;\n",
              "    }\n",
              "</style>\n",
              "<table border=\"1\" class=\"dataframe\">\n",
              "  <thead>\n",
              "    <tr>\n",
              "      <th></th>\n",
              "      <th>0</th>\n",
              "      <th>1</th>\n",
              "      <th>2</th>\n",
              "      <th>3</th>\n",
              "      <th>4</th>\n",
              "      <th>5</th>\n",
              "      <th>6</th>\n",
              "      <th>7</th>\n",
              "      <th>8</th>\n",
              "      <th>9</th>\n",
              "      <th>10</th>\n",
              "      <th>11</th>\n",
              "      <th>12</th>\n",
              "      <th>13</th>\n",
              "      <th>14</th>\n",
              "      <th>15</th>\n",
              "      <th>16</th>\n",
              "      <th>17</th>\n",
              "      <th>18</th>\n",
              "      <th>19</th>\n",
              "      <th>20</th>\n",
              "      <th>21</th>\n",
              "      <th>22</th>\n",
              "      <th>23</th>\n",
              "      <th>24</th>\n",
              "      <th>25</th>\n",
              "      <th>26</th>\n",
              "      <th>27</th>\n",
              "      <th>28</th>\n",
              "      <th>29</th>\n",
              "      <th>30</th>\n",
              "      <th>31</th>\n",
              "      <th>32</th>\n",
              "      <th>33</th>\n",
              "      <th>34</th>\n",
              "      <th>35</th>\n",
              "      <th>36</th>\n",
              "      <th>37</th>\n",
              "      <th>38</th>\n",
              "      <th>39</th>\n",
              "      <th>...</th>\n",
              "      <th>176</th>\n",
              "      <th>177</th>\n",
              "      <th>178</th>\n",
              "      <th>179</th>\n",
              "      <th>180</th>\n",
              "      <th>181</th>\n",
              "      <th>182</th>\n",
              "      <th>183</th>\n",
              "      <th>184</th>\n",
              "      <th>185</th>\n",
              "      <th>186</th>\n",
              "      <th>187</th>\n",
              "      <th>188</th>\n",
              "      <th>189</th>\n",
              "      <th>190</th>\n",
              "      <th>191</th>\n",
              "      <th>192</th>\n",
              "      <th>193</th>\n",
              "      <th>194</th>\n",
              "      <th>195</th>\n",
              "      <th>196</th>\n",
              "      <th>197</th>\n",
              "      <th>198</th>\n",
              "      <th>199</th>\n",
              "      <th>200</th>\n",
              "      <th>201</th>\n",
              "      <th>202</th>\n",
              "      <th>203</th>\n",
              "      <th>204</th>\n",
              "      <th>205</th>\n",
              "      <th>206</th>\n",
              "      <th>207</th>\n",
              "      <th>208</th>\n",
              "      <th>209</th>\n",
              "      <th>210</th>\n",
              "      <th>211</th>\n",
              "      <th>212</th>\n",
              "      <th>213</th>\n",
              "      <th>214</th>\n",
              "      <th>215</th>\n",
              "    </tr>\n",
              "    <tr>\n",
              "      <th></th>\n",
              "      <th>0</th>\n",
              "      <th>0</th>\n",
              "      <th>0</th>\n",
              "      <th>0</th>\n",
              "      <th>0</th>\n",
              "      <th>0</th>\n",
              "      <th>0</th>\n",
              "      <th>0</th>\n",
              "      <th>0</th>\n",
              "      <th>0</th>\n",
              "      <th>0</th>\n",
              "      <th>0</th>\n",
              "      <th>0</th>\n",
              "      <th>0</th>\n",
              "      <th>0</th>\n",
              "      <th>0</th>\n",
              "      <th>0</th>\n",
              "      <th>0</th>\n",
              "      <th>0</th>\n",
              "      <th>0</th>\n",
              "      <th>0</th>\n",
              "      <th>0</th>\n",
              "      <th>0</th>\n",
              "      <th>0</th>\n",
              "      <th>0</th>\n",
              "      <th>0</th>\n",
              "      <th>0</th>\n",
              "      <th>0</th>\n",
              "      <th>0</th>\n",
              "      <th>0</th>\n",
              "      <th>0</th>\n",
              "      <th>0</th>\n",
              "      <th>0</th>\n",
              "      <th>0</th>\n",
              "      <th>0</th>\n",
              "      <th>0</th>\n",
              "      <th>0</th>\n",
              "      <th>0</th>\n",
              "      <th>0</th>\n",
              "      <th>0</th>\n",
              "      <th>...</th>\n",
              "      <th>0</th>\n",
              "      <th>0</th>\n",
              "      <th>0</th>\n",
              "      <th>0</th>\n",
              "      <th>0</th>\n",
              "      <th>0</th>\n",
              "      <th>0</th>\n",
              "      <th>0</th>\n",
              "      <th>0</th>\n",
              "      <th>0</th>\n",
              "      <th>0</th>\n",
              "      <th>0</th>\n",
              "      <th>0</th>\n",
              "      <th>0</th>\n",
              "      <th>0</th>\n",
              "      <th>0</th>\n",
              "      <th>0</th>\n",
              "      <th>0</th>\n",
              "      <th>0</th>\n",
              "      <th>0</th>\n",
              "      <th>0</th>\n",
              "      <th>0</th>\n",
              "      <th>0</th>\n",
              "      <th>0</th>\n",
              "      <th>0</th>\n",
              "      <th>0</th>\n",
              "      <th>0</th>\n",
              "      <th>0</th>\n",
              "      <th>0</th>\n",
              "      <th>0</th>\n",
              "      <th>0</th>\n",
              "      <th>0</th>\n",
              "      <th>0</th>\n",
              "      <th>0</th>\n",
              "      <th>0</th>\n",
              "      <th>0</th>\n",
              "      <th>0</th>\n",
              "      <th>0</th>\n",
              "      <th>0</th>\n",
              "      <th>0</th>\n",
              "    </tr>\n",
              "  </thead>\n",
              "  <tbody>\n",
              "    <tr>\n",
              "      <th>0</th>\n",
              "      <td>-10.342405</td>\n",
              "      <td>-10.542077</td>\n",
              "      <td>-10.734669</td>\n",
              "      <td>-12.152303</td>\n",
              "      <td>-13.230002</td>\n",
              "      <td>-11.721354</td>\n",
              "      <td>-11.747549</td>\n",
              "      <td>-13.200709</td>\n",
              "      <td>-14.057817</td>\n",
              "      <td>-14.253041</td>\n",
              "      <td>-15.791761</td>\n",
              "      <td>-13.59576</td>\n",
              "      <td>-11.231223</td>\n",
              "      <td>-10.880141</td>\n",
              "      <td>-12.282669</td>\n",
              "      <td>-12.449717</td>\n",
              "      <td>-13.818599</td>\n",
              "      <td>-12.72374</td>\n",
              "      <td>-12.459982</td>\n",
              "      <td>-15.753559</td>\n",
              "      <td>-14.120353</td>\n",
              "      <td>-11.255375</td>\n",
              "      <td>-8.229468</td>\n",
              "      <td>-6.195348</td>\n",
              "      <td>-4.595813</td>\n",
              "      <td>-3.865882</td>\n",
              "      <td>-2.672335</td>\n",
              "      <td>-2.957268</td>\n",
              "      <td>-1.755361</td>\n",
              "      <td>0.025723</td>\n",
              "      <td>0.018167</td>\n",
              "      <td>-1.065914</td>\n",
              "      <td>-2.310527</td>\n",
              "      <td>-2.090195</td>\n",
              "      <td>-1.60061</td>\n",
              "      <td>-3.048487</td>\n",
              "      <td>-3.032268</td>\n",
              "      <td>-0.772506</td>\n",
              "      <td>1.227756</td>\n",
              "      <td>0.11811</td>\n",
              "      <td>...</td>\n",
              "      <td>-15.545538</td>\n",
              "      <td>-12.569155</td>\n",
              "      <td>-11.027986</td>\n",
              "      <td>-10.766314</td>\n",
              "      <td>-12.592283</td>\n",
              "      <td>-10.760469</td>\n",
              "      <td>-9.670299</td>\n",
              "      <td>-11.216867</td>\n",
              "      <td>-14.173705</td>\n",
              "      <td>-14.83776</td>\n",
              "      <td>-13.129539</td>\n",
              "      <td>-12.726516</td>\n",
              "      <td>-14.963156</td>\n",
              "      <td>-15.749327</td>\n",
              "      <td>-14.831348</td>\n",
              "      <td>-12.774656</td>\n",
              "      <td>-13.260909</td>\n",
              "      <td>-12.432667</td>\n",
              "      <td>-11.454666</td>\n",
              "      <td>-12.344967</td>\n",
              "      <td>-10.673674</td>\n",
              "      <td>-10.477635</td>\n",
              "      <td>-11.025687</td>\n",
              "      <td>-9.244098</td>\n",
              "      <td>-8.815282</td>\n",
              "      <td>-9.102205</td>\n",
              "      <td>-8.764978</td>\n",
              "      <td>-12.303046</td>\n",
              "      <td>-12.622817</td>\n",
              "      <td>-11.11996</td>\n",
              "      <td>-10.721788</td>\n",
              "      <td>-10.77481</td>\n",
              "      <td>-11.100413</td>\n",
              "      <td>-12.20898</td>\n",
              "      <td>-12.939902</td>\n",
              "      <td>-13.457017</td>\n",
              "      <td>-12.276854</td>\n",
              "      <td>-9.945031</td>\n",
              "      <td>-10.326087</td>\n",
              "      <td>-14.757708</td>\n",
              "    </tr>\n",
              "  </tbody>\n",
              "</table>\n",
              "<p>1 rows × 216 columns</p>\n",
              "</div>"
            ],
            "text/plain": [
              "         0          1          2    ...       213        214        215\n",
              "           0          0          0  ...         0          0          0\n",
              "0 -10.342405 -10.542077 -10.734669  ... -9.945031 -10.326087 -14.757708\n",
              "\n",
              "[1 rows x 216 columns]"
            ]
          },
          "metadata": {},
          "execution_count": 340
        }
      ]
    },
    {
      "cell_type": "code",
      "metadata": {
        "id": "EwpL5yE1cJoO"
      },
      "source": [
        "twodim= np.expand_dims(livedf2, axis=2)"
      ],
      "execution_count": null,
      "outputs": []
    },
    {
      "cell_type": "code",
      "metadata": {
        "id": "C-QUX3DQcLGy",
        "colab": {
          "base_uri": "https://localhost:8080/"
        },
        "outputId": "219ceef7-3638-4d07-c10e-9b33c38d9e9e"
      },
      "source": [
        "livepreds = loaded_model.predict(twodim, \n",
        "                         batch_size=32, \n",
        "                         verbose=1)"
      ],
      "execution_count": null,
      "outputs": [
        {
          "output_type": "stream",
          "name": "stdout",
          "text": [
            "1/1 [==============================] - 0s 22ms/step\n"
          ]
        }
      ]
    },
    {
      "cell_type": "code",
      "source": [
        "classes = np.array([0,1,2,3,4,5,6,7,8,9])\n",
        "classes = (lb.inverse_transform(classes))\n",
        "classes = pd.DataFrame({'Class Label': classes})\n",
        "preddd = pd.DataFrame({'Predictions': livepreds[0]*100})\n",
        "results = classes.join(preddd)\n",
        "results"
      ],
      "metadata": {
        "colab": {
          "base_uri": "https://localhost:8080/",
          "height": 363
        },
        "id": "33dTQPn2rHK0",
        "outputId": "88a71b6e-9bd5-4ccb-a1e6-d5928992bcf2"
      },
      "execution_count": null,
      "outputs": [
        {
          "output_type": "execute_result",
          "data": {
            "text/html": [
              "<div>\n",
              "<style scoped>\n",
              "    .dataframe tbody tr th:only-of-type {\n",
              "        vertical-align: middle;\n",
              "    }\n",
              "\n",
              "    .dataframe tbody tr th {\n",
              "        vertical-align: top;\n",
              "    }\n",
              "\n",
              "    .dataframe thead th {\n",
              "        text-align: right;\n",
              "    }\n",
              "</style>\n",
              "<table border=\"1\" class=\"dataframe\">\n",
              "  <thead>\n",
              "    <tr style=\"text-align: right;\">\n",
              "      <th></th>\n",
              "      <th>Class Label</th>\n",
              "      <th>Predictions</th>\n",
              "    </tr>\n",
              "  </thead>\n",
              "  <tbody>\n",
              "    <tr>\n",
              "      <th>0</th>\n",
              "      <td>female_angry</td>\n",
              "      <td>1.586039e-03</td>\n",
              "    </tr>\n",
              "    <tr>\n",
              "      <th>1</th>\n",
              "      <td>female_calm</td>\n",
              "      <td>6.666724e-10</td>\n",
              "    </tr>\n",
              "    <tr>\n",
              "      <th>2</th>\n",
              "      <td>female_fearful</td>\n",
              "      <td>1.833576e-03</td>\n",
              "    </tr>\n",
              "    <tr>\n",
              "      <th>3</th>\n",
              "      <td>female_happy</td>\n",
              "      <td>2.144663e-07</td>\n",
              "    </tr>\n",
              "    <tr>\n",
              "      <th>4</th>\n",
              "      <td>female_sad</td>\n",
              "      <td>3.374426e-02</td>\n",
              "    </tr>\n",
              "    <tr>\n",
              "      <th>5</th>\n",
              "      <td>male_angry</td>\n",
              "      <td>8.689408e-01</td>\n",
              "    </tr>\n",
              "    <tr>\n",
              "      <th>6</th>\n",
              "      <td>male_calm</td>\n",
              "      <td>3.832384e-05</td>\n",
              "    </tr>\n",
              "    <tr>\n",
              "      <th>7</th>\n",
              "      <td>male_fearful</td>\n",
              "      <td>7.423251e+01</td>\n",
              "    </tr>\n",
              "    <tr>\n",
              "      <th>8</th>\n",
              "      <td>male_happy</td>\n",
              "      <td>1.947514e+01</td>\n",
              "    </tr>\n",
              "    <tr>\n",
              "      <th>9</th>\n",
              "      <td>male_sad</td>\n",
              "      <td>5.386210e+00</td>\n",
              "    </tr>\n",
              "  </tbody>\n",
              "</table>\n",
              "</div>"
            ],
            "text/plain": [
              "      Class Label   Predictions\n",
              "0    female_angry  1.586039e-03\n",
              "1     female_calm  6.666724e-10\n",
              "2  female_fearful  1.833576e-03\n",
              "3    female_happy  2.144663e-07\n",
              "4      female_sad  3.374426e-02\n",
              "5      male_angry  8.689408e-01\n",
              "6       male_calm  3.832384e-05\n",
              "7    male_fearful  7.423251e+01\n",
              "8      male_happy  1.947514e+01\n",
              "9        male_sad  5.386210e+00"
            ]
          },
          "metadata": {},
          "execution_count": 343
        }
      ]
    },
    {
      "cell_type": "code",
      "metadata": {
        "id": "qQx6H4brcOdW",
        "colab": {
          "base_uri": "https://localhost:8080/",
          "height": 35
        },
        "outputId": "c0bdbb9f-a52f-4859-efb2-693ac8bff0f6"
      },
      "source": [
        "livepreds1=livepreds.argmax(axis=1)\n",
        "liveabc = livepreds1.astype(int).flatten()\n",
        "livepredictions = (lb.inverse_transform((liveabc)))\n",
        "livepredictions[0]"
      ],
      "execution_count": null,
      "outputs": [
        {
          "output_type": "execute_result",
          "data": {
            "application/vnd.google.colaboratory.intrinsic+json": {
              "type": "string"
            },
            "text/plain": [
              "'male_fearful'"
            ]
          },
          "metadata": {},
          "execution_count": 345
        }
      ]
    }
  ]
}