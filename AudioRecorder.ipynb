{
 "cells": [
  {
   "cell_type": "code",
   "execution_count": 2,
   "metadata": {},
   "outputs": [
    {
     "name": "stderr",
     "output_type": "stream",
     "text": [
      "'sudo' is not recognized as an internal or external command,\n",
      "operable program or batch file.\n"
     ]
    },
    {
     "name": "stdout",
     "output_type": "stream",
     "text": [
      "Requirement already satisfied: sounddevice in d:\\anaconda\\lib\\site-packages (0.4.3)\n",
      "Requirement already satisfied: CFFI>=1.0 in d:\\anaconda\\lib\\site-packages (from sounddevice) (1.14.0)\n",
      "Requirement already satisfied: pycparser in d:\\anaconda\\lib\\site-packages (from CFFI>=1.0->sounddevice) (2.20)\n",
      "Requirement already satisfied: wavio in d:\\anaconda\\lib\\site-packages (0.0.4)\n",
      "Requirement already satisfied: numpy>=1.6.0 in d:\\anaconda\\lib\\site-packages (from wavio) (1.18.5)\n",
      "Requirement already satisfied: sounddevice in d:\\anaconda\\lib\\site-packages (0.4.3)\n",
      "Requirement already satisfied: CFFI>=1.0 in d:\\anaconda\\lib\\site-packages (from sounddevice) (1.14.0)\n",
      "Requirement already satisfied: pycparser in d:\\anaconda\\lib\\site-packages (from CFFI>=1.0->sounddevice) (2.20)\n",
      "Requirement already satisfied: wavio in d:\\anaconda\\lib\\site-packages (0.0.4)\n",
      "Requirement already satisfied: numpy>=1.6.0 in d:\\anaconda\\lib\\site-packages (from wavio) (1.18.5)\n",
      "Requirement already satisfied: scipy in d:\\anaconda\\lib\\site-packages (1.5.0)\n",
      "Requirement already satisfied: numpy>=1.14.5 in d:\\anaconda\\lib\\site-packages (from scipy) (1.18.5)\n"
     ]
    }
   ],
   "source": [
    "!sudo apt-get install libportaudio2\n",
    "!pip install sounddevice\n",
    "!pip install wavio\n",
    "!pip3 install sounddevice\n",
    "!pip3 install wavio\n",
    "!pip3 install scipy"
   ]
  },
  {
   "cell_type": "code",
   "execution_count": 8,
   "metadata": {},
   "outputs": [
    {
     "name": "stdout",
     "output_type": "stream",
     "text": [
      "Recording ... \n",
      "done!\n"
     ]
    }
   ],
   "source": [
    "import sounddevice as sd\n",
    "from scipy.io.wavfile import write\n",
    "import os\n",
    "i = len(os.listdir('./'))\n",
    "\n",
    "fs = 44100  # Sample rate\n",
    "seconds = 3  # Duration of recording\n",
    "\n",
    "print(\"Recording ... \")\n",
    "myrecording = sd.rec(int(seconds * fs), samplerate=fs, channels=2)\n",
    "sd.wait()\n",
    "print(\"done!\")\n",
    "write('record' + str(i) + '.wav', fs, myrecording)"
   ]
  },
  {
   "cell_type": "code",
   "execution_count": null,
   "metadata": {},
   "outputs": [],
   "source": []
  }
 ],
 "metadata": {
  "kernelspec": {
   "display_name": "Python 3",
   "language": "python",
   "name": "python3"
  },
  "language_info": {
   "codemirror_mode": {
    "name": "ipython",
    "version": 3
   },
   "file_extension": ".py",
   "mimetype": "text/x-python",
   "name": "python",
   "nbconvert_exporter": "python",
   "pygments_lexer": "ipython3",
   "version": "3.8.3"
  }
 },
 "nbformat": 4,
 "nbformat_minor": 4
}
